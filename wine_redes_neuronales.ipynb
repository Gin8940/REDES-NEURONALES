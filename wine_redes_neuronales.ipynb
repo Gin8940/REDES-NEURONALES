{
  "nbformat": 4,
  "nbformat_minor": 0,
  "metadata": {
    "colab": {
      "name": "wine-redes neuronales.ipynb",
      "provenance": [],
      "collapsed_sections": [],
      "authorship_tag": "ABX9TyMvbSV0yFFRQiFbtB/nHq3U",
      "include_colab_link": true
    },
    "kernelspec": {
      "name": "python3",
      "display_name": "Python 3"
    }
  },
  "cells": [
    {
      "cell_type": "markdown",
      "metadata": {
        "id": "view-in-github",
        "colab_type": "text"
      },
      "source": [
        "<a href=\"https://colab.research.google.com/github/Gin8940/REDES-NEURONALES/blob/master/wine_redes_neuronales.ipynb\" target=\"_parent\"><img src=\"https://colab.research.google.com/assets/colab-badge.svg\" alt=\"Open In Colab\"/></a>"
      ]
    },
    {
      "cell_type": "code",
      "metadata": {
        "id": "tSNqeAzuUhx4",
        "colab_type": "code",
        "colab": {}
      },
      "source": [
        "\n",
        "import pandas as pd"
      ],
      "execution_count": 1,
      "outputs": []
    },
    {
      "cell_type": "code",
      "metadata": {
        "id": "ZN_PqIpXUmSO",
        "colab_type": "code",
        "colab": {}
      },
      "source": [
        "import numpy as np"
      ],
      "execution_count": 2,
      "outputs": []
    },
    {
      "cell_type": "code",
      "metadata": {
        "id": "HQMqy3tFUo43",
        "colab_type": "code",
        "colab": {}
      },
      "source": [
        "\n",
        "import matplotlib.pyplot as plt"
      ],
      "execution_count": 3,
      "outputs": []
    },
    {
      "cell_type": "markdown",
      "metadata": {
        "id": "sylhdHpwVJe_",
        "colab_type": "text"
      },
      "source": [
        "\n",
        "importar conjunto de datos de vino desde sklearn"
      ]
    },
    {
      "cell_type": "code",
      "metadata": {
        "id": "YF8dNHNpUrX9",
        "colab_type": "code",
        "colab": {}
      },
      "source": [
        "from sklearn import datasets\n",
        "wine = datasets.load_wine()"
      ],
      "execution_count": 4,
      "outputs": []
    },
    {
      "cell_type": "code",
      "metadata": {
        "id": "9pDVdl-qUtuV",
        "colab_type": "code",
        "colab": {}
      },
      "source": [
        "\n",
        "x = wine.data\n",
        "y = wine.target"
      ],
      "execution_count": 5,
      "outputs": []
    },
    {
      "cell_type": "markdown",
      "metadata": {
        "id": "3UykF5zfWE-7",
        "colab_type": "text"
      },
      "source": [
        "Creando un marco de datos"
      ]
    },
    {
      "cell_type": "code",
      "metadata": {
        "id": "8C6CSTuEUvU1",
        "colab_type": "code",
        "colab": {}
      },
      "source": [
        "df = pd.DataFrame(x, columns= wine.feature_names)"
      ],
      "execution_count": 6,
      "outputs": []
    },
    {
      "cell_type": "markdown",
      "metadata": {
        "id": "WOaQbGcdXUxL",
        "colab_type": "text"
      },
      "source": [
        "Mostraremos los primeros 5 registros"
      ]
    },
    {
      "cell_type": "code",
      "metadata": {
        "id": "bz71Cv5zUxXG",
        "colab_type": "code",
        "colab": {
          "base_uri": "https://localhost:8080/",
          "height": 204
        },
        "outputId": "08c5a764-2b9e-430f-86f3-fbe96def9962"
      },
      "source": [
        "df.head()"
      ],
      "execution_count": 7,
      "outputs": [
        {
          "output_type": "execute_result",
          "data": {
            "text/html": [
              "<div>\n",
              "<style scoped>\n",
              "    .dataframe tbody tr th:only-of-type {\n",
              "        vertical-align: middle;\n",
              "    }\n",
              "\n",
              "    .dataframe tbody tr th {\n",
              "        vertical-align: top;\n",
              "    }\n",
              "\n",
              "    .dataframe thead th {\n",
              "        text-align: right;\n",
              "    }\n",
              "</style>\n",
              "<table border=\"1\" class=\"dataframe\">\n",
              "  <thead>\n",
              "    <tr style=\"text-align: right;\">\n",
              "      <th></th>\n",
              "      <th>alcohol</th>\n",
              "      <th>malic_acid</th>\n",
              "      <th>ash</th>\n",
              "      <th>alcalinity_of_ash</th>\n",
              "      <th>magnesium</th>\n",
              "      <th>total_phenols</th>\n",
              "      <th>flavanoids</th>\n",
              "      <th>nonflavanoid_phenols</th>\n",
              "      <th>proanthocyanins</th>\n",
              "      <th>color_intensity</th>\n",
              "      <th>hue</th>\n",
              "      <th>od280/od315_of_diluted_wines</th>\n",
              "      <th>proline</th>\n",
              "    </tr>\n",
              "  </thead>\n",
              "  <tbody>\n",
              "    <tr>\n",
              "      <th>0</th>\n",
              "      <td>14.23</td>\n",
              "      <td>1.71</td>\n",
              "      <td>2.43</td>\n",
              "      <td>15.6</td>\n",
              "      <td>127.0</td>\n",
              "      <td>2.80</td>\n",
              "      <td>3.06</td>\n",
              "      <td>0.28</td>\n",
              "      <td>2.29</td>\n",
              "      <td>5.64</td>\n",
              "      <td>1.04</td>\n",
              "      <td>3.92</td>\n",
              "      <td>1065.0</td>\n",
              "    </tr>\n",
              "    <tr>\n",
              "      <th>1</th>\n",
              "      <td>13.20</td>\n",
              "      <td>1.78</td>\n",
              "      <td>2.14</td>\n",
              "      <td>11.2</td>\n",
              "      <td>100.0</td>\n",
              "      <td>2.65</td>\n",
              "      <td>2.76</td>\n",
              "      <td>0.26</td>\n",
              "      <td>1.28</td>\n",
              "      <td>4.38</td>\n",
              "      <td>1.05</td>\n",
              "      <td>3.40</td>\n",
              "      <td>1050.0</td>\n",
              "    </tr>\n",
              "    <tr>\n",
              "      <th>2</th>\n",
              "      <td>13.16</td>\n",
              "      <td>2.36</td>\n",
              "      <td>2.67</td>\n",
              "      <td>18.6</td>\n",
              "      <td>101.0</td>\n",
              "      <td>2.80</td>\n",
              "      <td>3.24</td>\n",
              "      <td>0.30</td>\n",
              "      <td>2.81</td>\n",
              "      <td>5.68</td>\n",
              "      <td>1.03</td>\n",
              "      <td>3.17</td>\n",
              "      <td>1185.0</td>\n",
              "    </tr>\n",
              "    <tr>\n",
              "      <th>3</th>\n",
              "      <td>14.37</td>\n",
              "      <td>1.95</td>\n",
              "      <td>2.50</td>\n",
              "      <td>16.8</td>\n",
              "      <td>113.0</td>\n",
              "      <td>3.85</td>\n",
              "      <td>3.49</td>\n",
              "      <td>0.24</td>\n",
              "      <td>2.18</td>\n",
              "      <td>7.80</td>\n",
              "      <td>0.86</td>\n",
              "      <td>3.45</td>\n",
              "      <td>1480.0</td>\n",
              "    </tr>\n",
              "    <tr>\n",
              "      <th>4</th>\n",
              "      <td>13.24</td>\n",
              "      <td>2.59</td>\n",
              "      <td>2.87</td>\n",
              "      <td>21.0</td>\n",
              "      <td>118.0</td>\n",
              "      <td>2.80</td>\n",
              "      <td>2.69</td>\n",
              "      <td>0.39</td>\n",
              "      <td>1.82</td>\n",
              "      <td>4.32</td>\n",
              "      <td>1.04</td>\n",
              "      <td>2.93</td>\n",
              "      <td>735.0</td>\n",
              "    </tr>\n",
              "  </tbody>\n",
              "</table>\n",
              "</div>"
            ],
            "text/plain": [
              "   alcohol  malic_acid   ash  ...   hue  od280/od315_of_diluted_wines  proline\n",
              "0    14.23        1.71  2.43  ...  1.04                          3.92   1065.0\n",
              "1    13.20        1.78  2.14  ...  1.05                          3.40   1050.0\n",
              "2    13.16        2.36  2.67  ...  1.03                          3.17   1185.0\n",
              "3    14.37        1.95  2.50  ...  0.86                          3.45   1480.0\n",
              "4    13.24        2.59  2.87  ...  1.04                          2.93    735.0\n",
              "\n",
              "[5 rows x 13 columns]"
            ]
          },
          "metadata": {
            "tags": []
          },
          "execution_count": 7
        }
      ]
    },
    {
      "cell_type": "markdown",
      "metadata": {
        "id": "jXshLvN7XhPB",
        "colab_type": "text"
      },
      "source": [
        "Mostraremos los ultimos 5 registros"
      ]
    },
    {
      "cell_type": "code",
      "metadata": {
        "id": "LD-uVXXwXcmt",
        "colab_type": "code",
        "colab": {
          "base_uri": "https://localhost:8080/",
          "height": 204
        },
        "outputId": "674de23e-fb0c-4216-f914-182ba62b85ac"
      },
      "source": [
        "df.tail()"
      ],
      "execution_count": 8,
      "outputs": [
        {
          "output_type": "execute_result",
          "data": {
            "text/html": [
              "<div>\n",
              "<style scoped>\n",
              "    .dataframe tbody tr th:only-of-type {\n",
              "        vertical-align: middle;\n",
              "    }\n",
              "\n",
              "    .dataframe tbody tr th {\n",
              "        vertical-align: top;\n",
              "    }\n",
              "\n",
              "    .dataframe thead th {\n",
              "        text-align: right;\n",
              "    }\n",
              "</style>\n",
              "<table border=\"1\" class=\"dataframe\">\n",
              "  <thead>\n",
              "    <tr style=\"text-align: right;\">\n",
              "      <th></th>\n",
              "      <th>alcohol</th>\n",
              "      <th>malic_acid</th>\n",
              "      <th>ash</th>\n",
              "      <th>alcalinity_of_ash</th>\n",
              "      <th>magnesium</th>\n",
              "      <th>total_phenols</th>\n",
              "      <th>flavanoids</th>\n",
              "      <th>nonflavanoid_phenols</th>\n",
              "      <th>proanthocyanins</th>\n",
              "      <th>color_intensity</th>\n",
              "      <th>hue</th>\n",
              "      <th>od280/od315_of_diluted_wines</th>\n",
              "      <th>proline</th>\n",
              "    </tr>\n",
              "  </thead>\n",
              "  <tbody>\n",
              "    <tr>\n",
              "      <th>173</th>\n",
              "      <td>13.71</td>\n",
              "      <td>5.65</td>\n",
              "      <td>2.45</td>\n",
              "      <td>20.5</td>\n",
              "      <td>95.0</td>\n",
              "      <td>1.68</td>\n",
              "      <td>0.61</td>\n",
              "      <td>0.52</td>\n",
              "      <td>1.06</td>\n",
              "      <td>7.7</td>\n",
              "      <td>0.64</td>\n",
              "      <td>1.74</td>\n",
              "      <td>740.0</td>\n",
              "    </tr>\n",
              "    <tr>\n",
              "      <th>174</th>\n",
              "      <td>13.40</td>\n",
              "      <td>3.91</td>\n",
              "      <td>2.48</td>\n",
              "      <td>23.0</td>\n",
              "      <td>102.0</td>\n",
              "      <td>1.80</td>\n",
              "      <td>0.75</td>\n",
              "      <td>0.43</td>\n",
              "      <td>1.41</td>\n",
              "      <td>7.3</td>\n",
              "      <td>0.70</td>\n",
              "      <td>1.56</td>\n",
              "      <td>750.0</td>\n",
              "    </tr>\n",
              "    <tr>\n",
              "      <th>175</th>\n",
              "      <td>13.27</td>\n",
              "      <td>4.28</td>\n",
              "      <td>2.26</td>\n",
              "      <td>20.0</td>\n",
              "      <td>120.0</td>\n",
              "      <td>1.59</td>\n",
              "      <td>0.69</td>\n",
              "      <td>0.43</td>\n",
              "      <td>1.35</td>\n",
              "      <td>10.2</td>\n",
              "      <td>0.59</td>\n",
              "      <td>1.56</td>\n",
              "      <td>835.0</td>\n",
              "    </tr>\n",
              "    <tr>\n",
              "      <th>176</th>\n",
              "      <td>13.17</td>\n",
              "      <td>2.59</td>\n",
              "      <td>2.37</td>\n",
              "      <td>20.0</td>\n",
              "      <td>120.0</td>\n",
              "      <td>1.65</td>\n",
              "      <td>0.68</td>\n",
              "      <td>0.53</td>\n",
              "      <td>1.46</td>\n",
              "      <td>9.3</td>\n",
              "      <td>0.60</td>\n",
              "      <td>1.62</td>\n",
              "      <td>840.0</td>\n",
              "    </tr>\n",
              "    <tr>\n",
              "      <th>177</th>\n",
              "      <td>14.13</td>\n",
              "      <td>4.10</td>\n",
              "      <td>2.74</td>\n",
              "      <td>24.5</td>\n",
              "      <td>96.0</td>\n",
              "      <td>2.05</td>\n",
              "      <td>0.76</td>\n",
              "      <td>0.56</td>\n",
              "      <td>1.35</td>\n",
              "      <td>9.2</td>\n",
              "      <td>0.61</td>\n",
              "      <td>1.60</td>\n",
              "      <td>560.0</td>\n",
              "    </tr>\n",
              "  </tbody>\n",
              "</table>\n",
              "</div>"
            ],
            "text/plain": [
              "     alcohol  malic_acid   ash  ...   hue  od280/od315_of_diluted_wines  proline\n",
              "173    13.71        5.65  2.45  ...  0.64                          1.74    740.0\n",
              "174    13.40        3.91  2.48  ...  0.70                          1.56    750.0\n",
              "175    13.27        4.28  2.26  ...  0.59                          1.56    835.0\n",
              "176    13.17        2.59  2.37  ...  0.60                          1.62    840.0\n",
              "177    14.13        4.10  2.74  ...  0.61                          1.60    560.0\n",
              "\n",
              "[5 rows x 13 columns]"
            ]
          },
          "metadata": {
            "tags": []
          },
          "execution_count": 8
        }
      ]
    },
    {
      "cell_type": "markdown",
      "metadata": {
        "id": "rqR4BdHSYRG2",
        "colab_type": "text"
      },
      "source": [
        "\n",
        "imprimir nombre de clase"
      ]
    },
    {
      "cell_type": "code",
      "metadata": {
        "id": "OxfWN3wdYSEF",
        "colab_type": "code",
        "colab": {
          "base_uri": "https://localhost:8080/",
          "height": 34
        },
        "outputId": "f3043ade-964b-4dbe-c2ae-290cacba1856"
      },
      "source": [
        "print(wine.target_names)"
      ],
      "execution_count": 9,
      "outputs": [
        {
          "output_type": "stream",
          "text": [
            "['class_0' 'class_1' 'class_2']\n"
          ],
          "name": "stdout"
        }
      ]
    },
    {
      "cell_type": "markdown",
      "metadata": {
        "id": "YKxSqzbWYzLh",
        "colab_type": "text"
      },
      "source": [
        "como entrenar y dividir"
      ]
    },
    {
      "cell_type": "code",
      "metadata": {
        "id": "qMLpuaDKYX55",
        "colab_type": "code",
        "colab": {}
      },
      "source": [
        "from sklearn.model_selection import train_test_split"
      ],
      "execution_count": 10,
      "outputs": []
    },
    {
      "cell_type": "markdown",
      "metadata": {
        "id": "r7kSCyJeY5K4",
        "colab_type": "text"
      },
      "source": [
        "\n",
        "dividir datos 30% para pruebas y 70% para entrenamiento"
      ]
    },
    {
      "cell_type": "code",
      "metadata": {
        "id": "LB0pbebQYlk7",
        "colab_type": "code",
        "colab": {}
      },
      "source": [
        "x_train, x_test, y_train, y_test = train_test_split(x,y,test_size=0.3,random_state=1,stratify=y)"
      ],
      "execution_count": 11,
      "outputs": []
    },
    {
      "cell_type": "markdown",
      "metadata": {
        "id": "maQbbCRIY_Rc",
        "colab_type": "text"
      },
      "source": [
        "clasificador de árbol de decisión de importación"
      ]
    },
    {
      "cell_type": "code",
      "metadata": {
        "id": "IAzZdTwlYo0c",
        "colab_type": "code",
        "colab": {}
      },
      "source": [
        "from sklearn.tree import DecisionTreeClassifier"
      ],
      "execution_count": 12,
      "outputs": []
    },
    {
      "cell_type": "markdown",
      "metadata": {
        "id": "BqJuRbdDZDr6",
        "colab_type": "text"
      },
      "source": [
        "puntuación de precisión de importación"
      ]
    },
    {
      "cell_type": "code",
      "metadata": {
        "id": "zn3rrEfVYsG9",
        "colab_type": "code",
        "colab": {}
      },
      "source": [
        "from sklearn.metrics import accuracy_score"
      ],
      "execution_count": 13,
      "outputs": []
    },
    {
      "cell_type": "markdown",
      "metadata": {
        "id": "kW_gVhaHZQse",
        "colab_type": "text"
      },
      "source": [
        "\n",
        "inicializar el árbol de decisión (DT) y establecer el criterio como 'gini' para medir la calidad de la división"
      ]
    },
    {
      "cell_type": "code",
      "metadata": {
        "id": "DOS-gOhGZH_c",
        "colab_type": "code",
        "colab": {}
      },
      "source": [
        "dt=DecisionTreeClassifier(criterion='gini',random_state=1, max_depth=5)"
      ],
      "execution_count": 14,
      "outputs": []
    },
    {
      "cell_type": "markdown",
      "metadata": {
        "id": "qwzu2ZSYZp0v",
        "colab_type": "text"
      },
      "source": [
        "Fit Dt para entrenar para gini(arbol de decisiones)"
      ]
    },
    {
      "cell_type": "code",
      "metadata": {
        "id": "L30X-UtQZJ-9",
        "colab_type": "code",
        "colab": {
          "base_uri": "https://localhost:8080/",
          "height": 119
        },
        "outputId": "fcbbdb4c-8932-471f-f4b8-1f6fdd3c9c84"
      },
      "source": [
        "dt.fit(x_train , y_train)"
      ],
      "execution_count": 15,
      "outputs": [
        {
          "output_type": "execute_result",
          "data": {
            "text/plain": [
              "DecisionTreeClassifier(ccp_alpha=0.0, class_weight=None, criterion='gini',\n",
              "                       max_depth=5, max_features=None, max_leaf_nodes=None,\n",
              "                       min_impurity_decrease=0.0, min_impurity_split=None,\n",
              "                       min_samples_leaf=1, min_samples_split=2,\n",
              "                       min_weight_fraction_leaf=0.0, presort='deprecated',\n",
              "                       random_state=1, splitter='best')"
            ]
          },
          "metadata": {
            "tags": []
          },
          "execution_count": 15
        }
      ]
    },
    {
      "cell_type": "markdown",
      "metadata": {
        "id": "KhrmZsa6aAmt",
        "colab_type": "text"
      },
      "source": [
        "\n",
        "predecir etiquetas de prueba para gini"
      ]
    },
    {
      "cell_type": "code",
      "metadata": {
        "id": "K80k9zVUZ0yk",
        "colab_type": "code",
        "colab": {}
      },
      "source": [
        "y_pred = dt.predict(x_test)"
      ],
      "execution_count": 16,
      "outputs": []
    },
    {
      "cell_type": "code",
      "metadata": {
        "id": "CNnxFMdcZ7wH",
        "colab_type": "code",
        "colab": {
          "base_uri": "https://localhost:8080/",
          "height": 51
        },
        "outputId": "63bfce34-4a3a-4b53-810c-35c818562d22"
      },
      "source": [
        "print(y_pred)"
      ],
      "execution_count": 17,
      "outputs": [
        {
          "output_type": "stream",
          "text": [
            "[2 2 2 1 1 0 1 0 1 2 2 0 1 0 2 1 0 0 0 2 0 1 1 0 1 2 2 1 1 1 2 1 0 1 1 0 2\n",
            " 1 1 2 0 2 0 0 1 1 0 2 1 0 1 0 0 2]\n"
          ],
          "name": "stdout"
        }
      ]
    },
    {
      "cell_type": "markdown",
      "metadata": {
        "id": "bK2XbQMraKO5",
        "colab_type": "text"
      },
      "source": [
        "Evaluar la precisión del conjunto de pruebas para gini"
      ]
    },
    {
      "cell_type": "code",
      "metadata": {
        "id": "bNYCsZITaGzU",
        "colab_type": "code",
        "colab": {
          "base_uri": "https://localhost:8080/",
          "height": 119
        },
        "outputId": "4a817ac8-8669-48ac-f84f-2d3bd90c5444"
      },
      "source": [
        "accuracy_score=(y_test,y_pred)\n",
        "accuracy_score"
      ],
      "execution_count": 18,
      "outputs": [
        {
          "output_type": "execute_result",
          "data": {
            "text/plain": [
              "(array([2, 2, 2, 1, 1, 0, 1, 0, 1, 2, 2, 0, 1, 0, 2, 1, 0, 0, 0, 2, 0, 1,\n",
              "        1, 0, 1, 2, 2, 1, 1, 1, 2, 1, 0, 1, 1, 1, 2, 1, 1, 2, 0, 2, 0, 0,\n",
              "        0, 1, 0, 2, 1, 0, 1, 0, 0, 2]),\n",
              " array([2, 2, 2, 1, 1, 0, 1, 0, 1, 2, 2, 0, 1, 0, 2, 1, 0, 0, 0, 2, 0, 1,\n",
              "        1, 0, 1, 2, 2, 1, 1, 1, 2, 1, 0, 1, 1, 0, 2, 1, 1, 2, 0, 2, 0, 0,\n",
              "        1, 1, 0, 2, 1, 0, 1, 0, 0, 2]))"
            ]
          },
          "metadata": {
            "tags": []
          },
          "execution_count": 18
        }
      ]
    },
    {
      "cell_type": "code",
      "metadata": {
        "id": "OisV7sndaM4w",
        "colab_type": "code",
        "colab": {
          "base_uri": "https://localhost:8080/",
          "height": 34
        },
        "outputId": "2e2f7bc9-f0a1-42f5-83fd-e42506f84779"
      },
      "source": [
        "dt.score(x_test,y_test)"
      ],
      "execution_count": 19,
      "outputs": [
        {
          "output_type": "execute_result",
          "data": {
            "text/plain": [
              "0.9629629629629629"
            ]
          },
          "metadata": {
            "tags": []
          },
          "execution_count": 19
        }
      ]
    },
    {
      "cell_type": "markdown",
      "metadata": {
        "id": "QTTNtuJWaeFi",
        "colab_type": "text"
      },
      "source": [
        "inicializar el árbol de decisión (DT) y establecer el criterio como 'entropía' para medir la calidad de la división"
      ]
    },
    {
      "cell_type": "code",
      "metadata": {
        "id": "IodhMzUJae01",
        "colab_type": "code",
        "colab": {}
      },
      "source": [
        "dt1=DecisionTreeClassifier(criterion='entropy',random_state=1)"
      ],
      "execution_count": 20,
      "outputs": []
    },
    {
      "cell_type": "markdown",
      "metadata": {
        "id": "dYJk7Ty3aqoN",
        "colab_type": "text"
      },
      "source": [
        "\n",
        "Ajuste Dt al entrenamiento para la entropía"
      ]
    },
    {
      "cell_type": "code",
      "metadata": {
        "id": "LTJ0tNi4alTi",
        "colab_type": "code",
        "colab": {
          "base_uri": "https://localhost:8080/",
          "height": 119
        },
        "outputId": "f6770b0a-46a7-4824-cbee-1a81dbde0674"
      },
      "source": [
        "dt1.fit(x_train , y_train)"
      ],
      "execution_count": 21,
      "outputs": [
        {
          "output_type": "execute_result",
          "data": {
            "text/plain": [
              "DecisionTreeClassifier(ccp_alpha=0.0, class_weight=None, criterion='entropy',\n",
              "                       max_depth=None, max_features=None, max_leaf_nodes=None,\n",
              "                       min_impurity_decrease=0.0, min_impurity_split=None,\n",
              "                       min_samples_leaf=1, min_samples_split=2,\n",
              "                       min_weight_fraction_leaf=0.0, presort='deprecated',\n",
              "                       random_state=1, splitter='best')"
            ]
          },
          "metadata": {
            "tags": []
          },
          "execution_count": 21
        }
      ]
    },
    {
      "cell_type": "markdown",
      "metadata": {
        "id": "i-Gv21fPbEiO",
        "colab_type": "text"
      },
      "source": [
        "predecir etiquetas de prueba para la entropía"
      ]
    },
    {
      "cell_type": "code",
      "metadata": {
        "id": "8mcEiNSNa8lh",
        "colab_type": "code",
        "colab": {}
      },
      "source": [
        "y_prediction = dt1.predict(x_test)"
      ],
      "execution_count": 22,
      "outputs": []
    },
    {
      "cell_type": "code",
      "metadata": {
        "id": "U8qvchT4bG1R",
        "colab_type": "code",
        "colab": {
          "base_uri": "https://localhost:8080/",
          "height": 51
        },
        "outputId": "ad89b3e4-ec24-4241-9d29-253375dd68b1"
      },
      "source": [
        "print(y_prediction)"
      ],
      "execution_count": 23,
      "outputs": [
        {
          "output_type": "stream",
          "text": [
            "[2 2 2 1 1 0 1 0 1 1 2 0 0 0 2 1 0 0 0 2 0 1 1 0 0 2 2 1 1 1 2 1 0 1 1 1 2\n",
            " 1 1 2 0 2 0 0 1 0 0 2 1 0 1 0 0 2]\n"
          ],
          "name": "stdout"
        }
      ]
    },
    {
      "cell_type": "markdown",
      "metadata": {
        "id": "iWti5mq9bOl8",
        "colab_type": "text"
      },
      "source": [
        "Evaluar la precisión del conjunto de pruebas para la entropía"
      ]
    },
    {
      "cell_type": "code",
      "metadata": {
        "id": "eLPKpbsJbJXY",
        "colab_type": "code",
        "colab": {
          "base_uri": "https://localhost:8080/",
          "height": 119
        },
        "outputId": "3747a085-53f6-4297-b490-d3acf62ddff0"
      },
      "source": [
        "accuracy_score=(y_test,y_prediction)\n",
        "accuracy_score"
      ],
      "execution_count": 24,
      "outputs": [
        {
          "output_type": "execute_result",
          "data": {
            "text/plain": [
              "(array([2, 2, 2, 1, 1, 0, 1, 0, 1, 2, 2, 0, 1, 0, 2, 1, 0, 0, 0, 2, 0, 1,\n",
              "        1, 0, 1, 2, 2, 1, 1, 1, 2, 1, 0, 1, 1, 1, 2, 1, 1, 2, 0, 2, 0, 0,\n",
              "        0, 1, 0, 2, 1, 0, 1, 0, 0, 2]),\n",
              " array([2, 2, 2, 1, 1, 0, 1, 0, 1, 1, 2, 0, 0, 0, 2, 1, 0, 0, 0, 2, 0, 1,\n",
              "        1, 0, 0, 2, 2, 1, 1, 1, 2, 1, 0, 1, 1, 1, 2, 1, 1, 2, 0, 2, 0, 0,\n",
              "        1, 0, 0, 2, 1, 0, 1, 0, 0, 2]))"
            ]
          },
          "metadata": {
            "tags": []
          },
          "execution_count": 24
        }
      ]
    },
    {
      "cell_type": "code",
      "metadata": {
        "id": "67Uhyq9VbRkL",
        "colab_type": "code",
        "colab": {
          "base_uri": "https://localhost:8080/",
          "height": 34
        },
        "outputId": "dee9d655-8d71-462d-fde6-769f9dfa2265"
      },
      "source": [
        "dt1.score(x_test,y_test)"
      ],
      "execution_count": 25,
      "outputs": [
        {
          "output_type": "execute_result",
          "data": {
            "text/plain": [
              "0.9074074074074074"
            ]
          },
          "metadata": {
            "tags": []
          },
          "execution_count": 25
        }
      ]
    },
    {
      "cell_type": "markdown",
      "metadata": {
        "id": "-qOiQsBzbYJT",
        "colab_type": "text"
      },
      "source": [
        "\n",
        "importar matriz de confusión"
      ]
    },
    {
      "cell_type": "code",
      "metadata": {
        "id": "HvoRBXtPbXDS",
        "colab_type": "code",
        "colab": {}
      },
      "source": [
        "from sklearn.metrics import confusion_matrix"
      ],
      "execution_count": 26,
      "outputs": []
    },
    {
      "cell_type": "markdown",
      "metadata": {
        "id": "a6VSIuFtb0dh",
        "colab_type": "text"
      },
      "source": [
        "informe de clasificación de importación"
      ]
    },
    {
      "cell_type": "code",
      "metadata": {
        "id": "QtHX3Zzgbv-b",
        "colab_type": "code",
        "colab": {}
      },
      "source": [
        "from sklearn.metrics import classification_report"
      ],
      "execution_count": 27,
      "outputs": []
    },
    {
      "cell_type": "markdown",
      "metadata": {
        "id": "LEixP0qscNc1",
        "colab_type": "text"
      },
      "source": [
        "matriz de confusión para 'Gini'"
      ]
    },
    {
      "cell_type": "code",
      "metadata": {
        "id": "kFJZUREKcF2f",
        "colab_type": "code",
        "colab": {
          "base_uri": "https://localhost:8080/",
          "height": 68
        },
        "outputId": "d56f39c7-98f0-431d-cc6f-4f20813aa0dc"
      },
      "source": [
        "print(confusion_matrix(y_test,y_pred))"
      ],
      "execution_count": 28,
      "outputs": [
        {
          "output_type": "stream",
          "text": [
            "[[17  1  0]\n",
            " [ 1 20  0]\n",
            " [ 0  0 15]]\n"
          ],
          "name": "stdout"
        }
      ]
    },
    {
      "cell_type": "markdown",
      "metadata": {
        "id": "aHfNJKcQdj5p",
        "colab_type": "text"
      },
      "source": [
        "informe de clasificación para 'Gini'"
      ]
    },
    {
      "cell_type": "code",
      "metadata": {
        "id": "Vle36CPzdgWG",
        "colab_type": "code",
        "colab": {
          "base_uri": "https://localhost:8080/",
          "height": 187
        },
        "outputId": "0de9766e-dfa2-477c-af34-00606cd447e9"
      },
      "source": [
        "target=wine.target_names\n",
        "print(classification_report(y_test,y_pred,target_names=target))"
      ],
      "execution_count": 29,
      "outputs": [
        {
          "output_type": "stream",
          "text": [
            "              precision    recall  f1-score   support\n",
            "\n",
            "     class_0       0.94      0.94      0.94        18\n",
            "     class_1       0.95      0.95      0.95        21\n",
            "     class_2       1.00      1.00      1.00        15\n",
            "\n",
            "    accuracy                           0.96        54\n",
            "   macro avg       0.97      0.97      0.97        54\n",
            "weighted avg       0.96      0.96      0.96        54\n",
            "\n"
          ],
          "name": "stdout"
        }
      ]
    },
    {
      "cell_type": "markdown",
      "metadata": {
        "id": "jztsa0_vd8mC",
        "colab_type": "text"
      },
      "source": [
        "matriz de confusión para 'entropía'"
      ]
    },
    {
      "cell_type": "code",
      "metadata": {
        "id": "hTnlF_dTd7-d",
        "colab_type": "code",
        "colab": {
          "base_uri": "https://localhost:8080/",
          "height": 68
        },
        "outputId": "eb5c5909-f015-4773-c501-8c08b8c74098"
      },
      "source": [
        "print(confusion_matrix(y_test,y_prediction))"
      ],
      "execution_count": 30,
      "outputs": [
        {
          "output_type": "stream",
          "text": [
            "[[17  1  0]\n",
            " [ 3 18  0]\n",
            " [ 0  1 14]]\n"
          ],
          "name": "stdout"
        }
      ]
    },
    {
      "cell_type": "markdown",
      "metadata": {
        "id": "eFt5IsGGeB_1",
        "colab_type": "text"
      },
      "source": [
        "informe de clasificación para 'entropía'"
      ]
    },
    {
      "cell_type": "code",
      "metadata": {
        "id": "L8PueuOAeBSg",
        "colab_type": "code",
        "colab": {
          "base_uri": "https://localhost:8080/",
          "height": 187
        },
        "outputId": "8ce20f74-0696-4519-9a3b-fc44d13456a5"
      },
      "source": [
        "print(classification_report(y_test,y_prediction,target_names=target))"
      ],
      "execution_count": 31,
      "outputs": [
        {
          "output_type": "stream",
          "text": [
            "              precision    recall  f1-score   support\n",
            "\n",
            "     class_0       0.85      0.94      0.89        18\n",
            "     class_1       0.90      0.86      0.88        21\n",
            "     class_2       1.00      0.93      0.97        15\n",
            "\n",
            "    accuracy                           0.91        54\n",
            "   macro avg       0.92      0.91      0.91        54\n",
            "weighted avg       0.91      0.91      0.91        54\n",
            "\n"
          ],
          "name": "stdout"
        }
      ]
    },
    {
      "cell_type": "markdown",
      "metadata": {
        "id": "hyDgYO6weHka",
        "colab_type": "text"
      },
      "source": [
        "\n",
        "importar árbol para visualización"
      ]
    },
    {
      "cell_type": "code",
      "metadata": {
        "id": "NomC_bhyeHJz",
        "colab_type": "code",
        "colab": {}
      },
      "source": [
        "from sklearn import tree"
      ],
      "execution_count": 33,
      "outputs": []
    },
    {
      "cell_type": "markdown",
      "metadata": {
        "id": "ovpeQjckeymw",
        "colab_type": "text"
      },
      "source": [
        "\n",
        "establecer criterio en Gini"
      ]
    },
    {
      "cell_type": "code",
      "metadata": {
        "id": "5uY3kCzQeuRm",
        "colab_type": "code",
        "colab": {}
      },
      "source": [
        "clf = tree.DecisionTreeClassifier(criterion='gini')\n",
        "clf = clf.fit(x, y)"
      ],
      "execution_count": 34,
      "outputs": []
    },
    {
      "cell_type": "markdown",
      "metadata": {
        "id": "55g5YnD_e6T7",
        "colab_type": "text"
      },
      "source": [
        "importar graphviz"
      ]
    },
    {
      "cell_type": "code",
      "metadata": {
        "id": "15aZS-8ue2Zv",
        "colab_type": "code",
        "colab": {}
      },
      "source": [
        "import graphviz\n",
        "from sklearn.tree import export_graphviz"
      ],
      "execution_count": 35,
      "outputs": []
    },
    {
      "cell_type": "markdown",
      "metadata": {
        "id": "K1I4JOcWe96R",
        "colab_type": "text"
      },
      "source": [
        "visualización del árbol de decisiones de impresión"
      ]
    },
    {
      "cell_type": "code",
      "metadata": {
        "id": "VMCr1Fsme9N_",
        "colab_type": "code",
        "colab": {
          "base_uri": "https://localhost:8080/",
          "height": 916
        },
        "outputId": "b3704370-91c5-4479-9336-2bfe0b706e70"
      },
      "source": [
        "dot_data = tree.export_graphviz(clf, out_file=None) \n",
        "graph = graphviz.Source(dot_data) \n",
        "graph.render(\"wine\") \n",
        "dot_data = tree.export_graphviz(clf, out_file=None, \n",
        "                         feature_names=wine.feature_names,  \n",
        "                         class_names=wine.target_names,  \n",
        "                         filled=True, rounded=True,\n",
        "                         special_characters=True)  \n",
        "graph = graphviz.Source(dot_data)  \n",
        "graph"
      ],
      "execution_count": 36,
      "outputs": [
        {
          "output_type": "execute_result",
          "data": {
            "text/plain": [
              "<graphviz.files.Source at 0x7f90dd456e48>"
            ],
            "image/svg+xml": "<?xml version=\"1.0\" encoding=\"UTF-8\" standalone=\"no\"?>\n<!DOCTYPE svg PUBLIC \"-//W3C//DTD SVG 1.1//EN\"\n \"http://www.w3.org/Graphics/SVG/1.1/DTD/svg11.dtd\">\n<!-- Generated by graphviz version 2.40.1 (20161225.0304)\n -->\n<!-- Title: Tree Pages: 1 -->\n<svg width=\"1230pt\" height=\"671pt\"\n viewBox=\"0.00 0.00 1229.50 671.00\" xmlns=\"http://www.w3.org/2000/svg\" xmlns:xlink=\"http://www.w3.org/1999/xlink\">\n<g id=\"graph0\" class=\"graph\" transform=\"scale(1 1) rotate(0) translate(4 667)\">\n<title>Tree</title>\n<polygon fill=\"#ffffff\" stroke=\"transparent\" points=\"-4,4 -4,-667 1225.5,-667 1225.5,4 -4,4\"/>\n<!-- 0 -->\n<g id=\"node1\" class=\"node\">\n<title>0</title>\n<path fill=\"#ebfcf2\" stroke=\"#000000\" d=\"M700.5,-663C700.5,-663 584.5,-663 584.5,-663 578.5,-663 572.5,-657 572.5,-651 572.5,-651 572.5,-592 572.5,-592 572.5,-586 578.5,-580 584.5,-580 584.5,-580 700.5,-580 700.5,-580 706.5,-580 712.5,-586 712.5,-592 712.5,-592 712.5,-651 712.5,-651 712.5,-657 706.5,-663 700.5,-663\"/>\n<text text-anchor=\"start\" x=\"594.5\" y=\"-647.8\" font-family=\"Helvetica,sans-Serif\" font-size=\"14.00\" fill=\"#000000\">proline ≤ 755.0</text>\n<text text-anchor=\"start\" x=\"604.5\" y=\"-632.8\" font-family=\"Helvetica,sans-Serif\" font-size=\"14.00\" fill=\"#000000\">gini = 0.658</text>\n<text text-anchor=\"start\" x=\"594.5\" y=\"-617.8\" font-family=\"Helvetica,sans-Serif\" font-size=\"14.00\" fill=\"#000000\">samples = 178</text>\n<text text-anchor=\"start\" x=\"580.5\" y=\"-602.8\" font-family=\"Helvetica,sans-Serif\" font-size=\"14.00\" fill=\"#000000\">value = [59, 71, 48]</text>\n<text text-anchor=\"start\" x=\"592.5\" y=\"-587.8\" font-family=\"Helvetica,sans-Serif\" font-size=\"14.00\" fill=\"#000000\">class = class_1</text>\n</g>\n<!-- 1 -->\n<g id=\"node2\" class=\"node\">\n<title>1</title>\n<path fill=\"#b7f6d1\" stroke=\"#000000\" d=\"M633.5,-544C633.5,-544 385.5,-544 385.5,-544 379.5,-544 373.5,-538 373.5,-532 373.5,-532 373.5,-473 373.5,-473 373.5,-467 379.5,-461 385.5,-461 385.5,-461 633.5,-461 633.5,-461 639.5,-461 645.5,-467 645.5,-473 645.5,-473 645.5,-532 645.5,-532 645.5,-538 639.5,-544 633.5,-544\"/>\n<text text-anchor=\"start\" x=\"381.5\" y=\"-528.8\" font-family=\"Helvetica,sans-Serif\" font-size=\"14.00\" fill=\"#000000\">od280/od315_of_diluted_wines ≤ 2.115</text>\n<text text-anchor=\"start\" x=\"471.5\" y=\"-513.8\" font-family=\"Helvetica,sans-Serif\" font-size=\"14.00\" fill=\"#000000\">gini = 0.492</text>\n<text text-anchor=\"start\" x=\"461.5\" y=\"-498.8\" font-family=\"Helvetica,sans-Serif\" font-size=\"14.00\" fill=\"#000000\">samples = 111</text>\n<text text-anchor=\"start\" x=\"452\" y=\"-483.8\" font-family=\"Helvetica,sans-Serif\" font-size=\"14.00\" fill=\"#000000\">value = [2, 67, 42]</text>\n<text text-anchor=\"start\" x=\"459.5\" y=\"-468.8\" font-family=\"Helvetica,sans-Serif\" font-size=\"14.00\" fill=\"#000000\">class = class_1</text>\n</g>\n<!-- 0&#45;&gt;1 -->\n<g id=\"edge1\" class=\"edge\">\n<title>0&#45;&gt;1</title>\n<path fill=\"none\" stroke=\"#000000\" d=\"M595.9831,-579.8796C585.6152,-570.6031 574.5329,-560.6874 563.8801,-551.1559\"/>\n<polygon fill=\"#000000\" stroke=\"#000000\" points=\"566.0017,-548.3577 556.2155,-544.2981 561.3341,-553.5744 566.0017,-548.3577\"/>\n<text text-anchor=\"middle\" x=\"557.6022\" y=\"-565.5596\" font-family=\"Helvetica,sans-Serif\" font-size=\"14.00\" fill=\"#000000\">True</text>\n</g>\n<!-- 16 -->\n<g id=\"node17\" class=\"node\">\n<title>16</title>\n<path fill=\"#e99659\" stroke=\"#000000\" d=\"M864.5,-544C864.5,-544 754.5,-544 754.5,-544 748.5,-544 742.5,-538 742.5,-532 742.5,-532 742.5,-473 742.5,-473 742.5,-467 748.5,-461 754.5,-461 754.5,-461 864.5,-461 864.5,-461 870.5,-461 876.5,-467 876.5,-473 876.5,-473 876.5,-532 876.5,-532 876.5,-538 870.5,-544 864.5,-544\"/>\n<text text-anchor=\"start\" x=\"750.5\" y=\"-528.8\" font-family=\"Helvetica,sans-Serif\" font-size=\"14.00\" fill=\"#000000\">flavanoids ≤ 2.165</text>\n<text text-anchor=\"start\" x=\"771.5\" y=\"-513.8\" font-family=\"Helvetica,sans-Serif\" font-size=\"14.00\" fill=\"#000000\">gini = 0.265</text>\n<text text-anchor=\"start\" x=\"765.5\" y=\"-498.8\" font-family=\"Helvetica,sans-Serif\" font-size=\"14.00\" fill=\"#000000\">samples = 67</text>\n<text text-anchor=\"start\" x=\"756\" y=\"-483.8\" font-family=\"Helvetica,sans-Serif\" font-size=\"14.00\" fill=\"#000000\">value = [57, 4, 6]</text>\n<text text-anchor=\"start\" x=\"759.5\" y=\"-468.8\" font-family=\"Helvetica,sans-Serif\" font-size=\"14.00\" fill=\"#000000\">class = class_0</text>\n</g>\n<!-- 0&#45;&gt;16 -->\n<g id=\"edge16\" class=\"edge\">\n<title>0&#45;&gt;16</title>\n<path fill=\"none\" stroke=\"#000000\" d=\"M700.9085,-579.8796C714.3839,-570.2774 728.8203,-559.9903 742.625,-550.1534\"/>\n<polygon fill=\"#000000\" stroke=\"#000000\" points=\"745.0117,-552.7505 751.1245,-544.0969 740.9494,-547.0497 745.0117,-552.7505\"/>\n<text text-anchor=\"middle\" x=\"746.9866\" y=\"-565.0521\" font-family=\"Helvetica,sans-Serif\" font-size=\"14.00\" fill=\"#000000\">False</text>\n</g>\n<!-- 2 -->\n<g id=\"node3\" class=\"node\">\n<title>2</title>\n<path fill=\"#9457e9\" stroke=\"#000000\" d=\"M389,-425C389,-425 290,-425 290,-425 284,-425 278,-419 278,-413 278,-413 278,-354 278,-354 278,-348 284,-342 290,-342 290,-342 389,-342 389,-342 395,-342 401,-348 401,-354 401,-354 401,-413 401,-413 401,-419 395,-425 389,-425\"/>\n<text text-anchor=\"start\" x=\"301\" y=\"-409.8\" font-family=\"Helvetica,sans-Serif\" font-size=\"14.00\" fill=\"#000000\">hue ≤ 0.935</text>\n<text text-anchor=\"start\" x=\"301.5\" y=\"-394.8\" font-family=\"Helvetica,sans-Serif\" font-size=\"14.00\" fill=\"#000000\">gini = 0.227</text>\n<text text-anchor=\"start\" x=\"295.5\" y=\"-379.8\" font-family=\"Helvetica,sans-Serif\" font-size=\"14.00\" fill=\"#000000\">samples = 46</text>\n<text text-anchor=\"start\" x=\"286\" y=\"-364.8\" font-family=\"Helvetica,sans-Serif\" font-size=\"14.00\" fill=\"#000000\">value = [0, 6, 40]</text>\n<text text-anchor=\"start\" x=\"289.5\" y=\"-349.8\" font-family=\"Helvetica,sans-Serif\" font-size=\"14.00\" fill=\"#000000\">class = class_2</text>\n</g>\n<!-- 1&#45;&gt;2 -->\n<g id=\"edge2\" class=\"edge\">\n<title>1&#45;&gt;2</title>\n<path fill=\"none\" stroke=\"#000000\" d=\"M450.0422,-460.8796C436.1954,-451.1868 421.3516,-440.7961 407.1788,-430.8752\"/>\n<polygon fill=\"#000000\" stroke=\"#000000\" points=\"409.1236,-427.9643 398.9242,-425.0969 405.1094,-433.6989 409.1236,-427.9643\"/>\n</g>\n<!-- 9 -->\n<g id=\"node10\" class=\"node\">\n<title>9</title>\n<path fill=\"#46e789\" stroke=\"#000000\" d=\"M564.5,-425C564.5,-425 454.5,-425 454.5,-425 448.5,-425 442.5,-419 442.5,-413 442.5,-413 442.5,-354 442.5,-354 442.5,-348 448.5,-342 454.5,-342 454.5,-342 564.5,-342 564.5,-342 570.5,-342 576.5,-348 576.5,-354 576.5,-354 576.5,-413 576.5,-413 576.5,-419 570.5,-425 564.5,-425\"/>\n<text text-anchor=\"start\" x=\"450.5\" y=\"-409.8\" font-family=\"Helvetica,sans-Serif\" font-size=\"14.00\" fill=\"#000000\">flavanoids ≤ 0.795</text>\n<text text-anchor=\"start\" x=\"471.5\" y=\"-394.8\" font-family=\"Helvetica,sans-Serif\" font-size=\"14.00\" fill=\"#000000\">gini = 0.117</text>\n<text text-anchor=\"start\" x=\"465.5\" y=\"-379.8\" font-family=\"Helvetica,sans-Serif\" font-size=\"14.00\" fill=\"#000000\">samples = 65</text>\n<text text-anchor=\"start\" x=\"456\" y=\"-364.8\" font-family=\"Helvetica,sans-Serif\" font-size=\"14.00\" fill=\"#000000\">value = [2, 61, 2]</text>\n<text text-anchor=\"start\" x=\"459.5\" y=\"-349.8\" font-family=\"Helvetica,sans-Serif\" font-size=\"14.00\" fill=\"#000000\">class = class_1</text>\n</g>\n<!-- 1&#45;&gt;9 -->\n<g id=\"edge9\" class=\"edge\">\n<title>1&#45;&gt;9</title>\n<path fill=\"none\" stroke=\"#000000\" d=\"M509.5,-460.8796C509.5,-452.6838 509.5,-443.9891 509.5,-435.5013\"/>\n<polygon fill=\"#000000\" stroke=\"#000000\" points=\"513.0001,-435.298 509.5,-425.2981 506.0001,-435.2981 513.0001,-435.298\"/>\n</g>\n<!-- 3 -->\n<g id=\"node4\" class=\"node\">\n<title>3</title>\n<path fill=\"#843ee6\" stroke=\"#000000\" d=\"M247.5,-306C247.5,-306 145.5,-306 145.5,-306 139.5,-306 133.5,-300 133.5,-294 133.5,-294 133.5,-235 133.5,-235 133.5,-229 139.5,-223 145.5,-223 145.5,-223 247.5,-223 247.5,-223 253.5,-223 259.5,-229 259.5,-235 259.5,-235 259.5,-294 259.5,-294 259.5,-300 253.5,-306 247.5,-306\"/>\n<text text-anchor=\"start\" x=\"141.5\" y=\"-290.8\" font-family=\"Helvetica,sans-Serif\" font-size=\"14.00\" fill=\"#000000\">flavanoids ≤ 1.58</text>\n<text text-anchor=\"start\" x=\"158.5\" y=\"-275.8\" font-family=\"Helvetica,sans-Serif\" font-size=\"14.00\" fill=\"#000000\">gini = 0.049</text>\n<text text-anchor=\"start\" x=\"152.5\" y=\"-260.8\" font-family=\"Helvetica,sans-Serif\" font-size=\"14.00\" fill=\"#000000\">samples = 40</text>\n<text text-anchor=\"start\" x=\"143\" y=\"-245.8\" font-family=\"Helvetica,sans-Serif\" font-size=\"14.00\" fill=\"#000000\">value = [0, 1, 39]</text>\n<text text-anchor=\"start\" x=\"146.5\" y=\"-230.8\" font-family=\"Helvetica,sans-Serif\" font-size=\"14.00\" fill=\"#000000\">class = class_2</text>\n</g>\n<!-- 2&#45;&gt;3 -->\n<g id=\"edge3\" class=\"edge\">\n<title>2&#45;&gt;3</title>\n<path fill=\"none\" stroke=\"#000000\" d=\"M289.4855,-341.8796C278.2299,-332.513 266.1912,-322.4948 254.6354,-312.8784\"/>\n<polygon fill=\"#000000\" stroke=\"#000000\" points=\"256.6534,-310.0043 246.7279,-306.2981 252.1758,-315.385 256.6534,-310.0043\"/>\n</g>\n<!-- 6 -->\n<g id=\"node7\" class=\"node\">\n<title>6</title>\n<path fill=\"#61ea9a\" stroke=\"#000000\" d=\"M389,-306C389,-306 290,-306 290,-306 284,-306 278,-300 278,-294 278,-294 278,-235 278,-235 278,-229 284,-223 290,-223 290,-223 389,-223 389,-223 395,-223 401,-229 401,-235 401,-235 401,-294 401,-294 401,-300 395,-306 389,-306\"/>\n<text text-anchor=\"start\" x=\"286\" y=\"-290.8\" font-family=\"Helvetica,sans-Serif\" font-size=\"14.00\" fill=\"#000000\">alcohol ≤ 13.515</text>\n<text text-anchor=\"start\" x=\"301.5\" y=\"-275.8\" font-family=\"Helvetica,sans-Serif\" font-size=\"14.00\" fill=\"#000000\">gini = 0.278</text>\n<text text-anchor=\"start\" x=\"300\" y=\"-260.8\" font-family=\"Helvetica,sans-Serif\" font-size=\"14.00\" fill=\"#000000\">samples = 6</text>\n<text text-anchor=\"start\" x=\"290\" y=\"-245.8\" font-family=\"Helvetica,sans-Serif\" font-size=\"14.00\" fill=\"#000000\">value = [0, 5, 1]</text>\n<text text-anchor=\"start\" x=\"289.5\" y=\"-230.8\" font-family=\"Helvetica,sans-Serif\" font-size=\"14.00\" fill=\"#000000\">class = class_1</text>\n</g>\n<!-- 2&#45;&gt;6 -->\n<g id=\"edge6\" class=\"edge\">\n<title>2&#45;&gt;6</title>\n<path fill=\"none\" stroke=\"#000000\" d=\"M339.5,-341.8796C339.5,-333.6838 339.5,-324.9891 339.5,-316.5013\"/>\n<polygon fill=\"#000000\" stroke=\"#000000\" points=\"343.0001,-316.298 339.5,-306.2981 336.0001,-316.2981 343.0001,-316.298\"/>\n</g>\n<!-- 4 -->\n<g id=\"node5\" class=\"node\">\n<title>4</title>\n<path fill=\"#8139e5\" stroke=\"#000000\" d=\"M111,-179.5C111,-179.5 12,-179.5 12,-179.5 6,-179.5 0,-173.5 0,-167.5 0,-167.5 0,-123.5 0,-123.5 0,-117.5 6,-111.5 12,-111.5 12,-111.5 111,-111.5 111,-111.5 117,-111.5 123,-117.5 123,-123.5 123,-123.5 123,-167.5 123,-167.5 123,-173.5 117,-179.5 111,-179.5\"/>\n<text text-anchor=\"start\" x=\"32\" y=\"-164.3\" font-family=\"Helvetica,sans-Serif\" font-size=\"14.00\" fill=\"#000000\">gini = 0.0</text>\n<text text-anchor=\"start\" x=\"17.5\" y=\"-149.3\" font-family=\"Helvetica,sans-Serif\" font-size=\"14.00\" fill=\"#000000\">samples = 39</text>\n<text text-anchor=\"start\" x=\"8\" y=\"-134.3\" font-family=\"Helvetica,sans-Serif\" font-size=\"14.00\" fill=\"#000000\">value = [0, 0, 39]</text>\n<text text-anchor=\"start\" x=\"11.5\" y=\"-119.3\" font-family=\"Helvetica,sans-Serif\" font-size=\"14.00\" fill=\"#000000\">class = class_2</text>\n</g>\n<!-- 3&#45;&gt;4 -->\n<g id=\"edge4\" class=\"edge\">\n<title>3&#45;&gt;4</title>\n<path fill=\"none\" stroke=\"#000000\" d=\"M149.2836,-222.8796C135.9358,-211.1138 121.4215,-198.3197 108.1096,-186.5855\"/>\n<polygon fill=\"#000000\" stroke=\"#000000\" points=\"110.2448,-183.8019 100.4287,-179.8149 105.616,-189.0531 110.2448,-183.8019\"/>\n</g>\n<!-- 5 -->\n<g id=\"node6\" class=\"node\">\n<title>5</title>\n<path fill=\"#39e581\" stroke=\"#000000\" d=\"M245.5,-179.5C245.5,-179.5 153.5,-179.5 153.5,-179.5 147.5,-179.5 141.5,-173.5 141.5,-167.5 141.5,-167.5 141.5,-123.5 141.5,-123.5 141.5,-117.5 147.5,-111.5 153.5,-111.5 153.5,-111.5 245.5,-111.5 245.5,-111.5 251.5,-111.5 257.5,-117.5 257.5,-123.5 257.5,-123.5 257.5,-167.5 257.5,-167.5 257.5,-173.5 251.5,-179.5 245.5,-179.5\"/>\n<text text-anchor=\"start\" x=\"170\" y=\"-164.3\" font-family=\"Helvetica,sans-Serif\" font-size=\"14.00\" fill=\"#000000\">gini = 0.0</text>\n<text text-anchor=\"start\" x=\"160\" y=\"-149.3\" font-family=\"Helvetica,sans-Serif\" font-size=\"14.00\" fill=\"#000000\">samples = 1</text>\n<text text-anchor=\"start\" x=\"150\" y=\"-134.3\" font-family=\"Helvetica,sans-Serif\" font-size=\"14.00\" fill=\"#000000\">value = [0, 1, 0]</text>\n<text text-anchor=\"start\" x=\"149.5\" y=\"-119.3\" font-family=\"Helvetica,sans-Serif\" font-size=\"14.00\" fill=\"#000000\">class = class_1</text>\n</g>\n<!-- 3&#45;&gt;5 -->\n<g id=\"edge5\" class=\"edge\">\n<title>3&#45;&gt;5</title>\n<path fill=\"none\" stroke=\"#000000\" d=\"M197.5493,-222.8796C197.8182,-212.2134 198.1084,-200.7021 198.3806,-189.9015\"/>\n<polygon fill=\"#000000\" stroke=\"#000000\" points=\"201.8817,-189.9 198.6349,-179.8149 194.8839,-189.7235 201.8817,-189.9\"/>\n</g>\n<!-- 7 -->\n<g id=\"node8\" class=\"node\">\n<title>7</title>\n<path fill=\"#39e581\" stroke=\"#000000\" d=\"M383.5,-179.5C383.5,-179.5 291.5,-179.5 291.5,-179.5 285.5,-179.5 279.5,-173.5 279.5,-167.5 279.5,-167.5 279.5,-123.5 279.5,-123.5 279.5,-117.5 285.5,-111.5 291.5,-111.5 291.5,-111.5 383.5,-111.5 383.5,-111.5 389.5,-111.5 395.5,-117.5 395.5,-123.5 395.5,-123.5 395.5,-167.5 395.5,-167.5 395.5,-173.5 389.5,-179.5 383.5,-179.5\"/>\n<text text-anchor=\"start\" x=\"308\" y=\"-164.3\" font-family=\"Helvetica,sans-Serif\" font-size=\"14.00\" fill=\"#000000\">gini = 0.0</text>\n<text text-anchor=\"start\" x=\"298\" y=\"-149.3\" font-family=\"Helvetica,sans-Serif\" font-size=\"14.00\" fill=\"#000000\">samples = 5</text>\n<text text-anchor=\"start\" x=\"288\" y=\"-134.3\" font-family=\"Helvetica,sans-Serif\" font-size=\"14.00\" fill=\"#000000\">value = [0, 5, 0]</text>\n<text text-anchor=\"start\" x=\"287.5\" y=\"-119.3\" font-family=\"Helvetica,sans-Serif\" font-size=\"14.00\" fill=\"#000000\">class = class_1</text>\n</g>\n<!-- 6&#45;&gt;7 -->\n<g id=\"edge7\" class=\"edge\">\n<title>6&#45;&gt;7</title>\n<path fill=\"none\" stroke=\"#000000\" d=\"M338.8005,-222.8796C338.6212,-212.2134 338.4278,-200.7021 338.2462,-189.9015\"/>\n<polygon fill=\"#000000\" stroke=\"#000000\" points=\"341.7444,-189.7547 338.0767,-179.8149 334.7454,-189.8724 341.7444,-189.7547\"/>\n</g>\n<!-- 8 -->\n<g id=\"node9\" class=\"node\">\n<title>8</title>\n<path fill=\"#8139e5\" stroke=\"#000000\" d=\"M517.5,-179.5C517.5,-179.5 425.5,-179.5 425.5,-179.5 419.5,-179.5 413.5,-173.5 413.5,-167.5 413.5,-167.5 413.5,-123.5 413.5,-123.5 413.5,-117.5 419.5,-111.5 425.5,-111.5 425.5,-111.5 517.5,-111.5 517.5,-111.5 523.5,-111.5 529.5,-117.5 529.5,-123.5 529.5,-123.5 529.5,-167.5 529.5,-167.5 529.5,-173.5 523.5,-179.5 517.5,-179.5\"/>\n<text text-anchor=\"start\" x=\"442\" y=\"-164.3\" font-family=\"Helvetica,sans-Serif\" font-size=\"14.00\" fill=\"#000000\">gini = 0.0</text>\n<text text-anchor=\"start\" x=\"432\" y=\"-149.3\" font-family=\"Helvetica,sans-Serif\" font-size=\"14.00\" fill=\"#000000\">samples = 1</text>\n<text text-anchor=\"start\" x=\"422\" y=\"-134.3\" font-family=\"Helvetica,sans-Serif\" font-size=\"14.00\" fill=\"#000000\">value = [0, 0, 1]</text>\n<text text-anchor=\"start\" x=\"421.5\" y=\"-119.3\" font-family=\"Helvetica,sans-Serif\" font-size=\"14.00\" fill=\"#000000\">class = class_2</text>\n</g>\n<!-- 6&#45;&gt;8 -->\n<g id=\"edge8\" class=\"edge\">\n<title>6&#45;&gt;8</title>\n<path fill=\"none\" stroke=\"#000000\" d=\"M385.6672,-222.8796C398.7183,-211.1138 412.9101,-198.3197 425.9261,-186.5855\"/>\n<polygon fill=\"#000000\" stroke=\"#000000\" points=\"428.3526,-189.1104 433.4364,-179.8149 423.6654,-183.9113 428.3526,-189.1104\"/>\n</g>\n<!-- 10 -->\n<g id=\"node11\" class=\"node\">\n<title>10</title>\n<path fill=\"#8139e5\" stroke=\"#000000\" d=\"M523.5,-298.5C523.5,-298.5 431.5,-298.5 431.5,-298.5 425.5,-298.5 419.5,-292.5 419.5,-286.5 419.5,-286.5 419.5,-242.5 419.5,-242.5 419.5,-236.5 425.5,-230.5 431.5,-230.5 431.5,-230.5 523.5,-230.5 523.5,-230.5 529.5,-230.5 535.5,-236.5 535.5,-242.5 535.5,-242.5 535.5,-286.5 535.5,-286.5 535.5,-292.5 529.5,-298.5 523.5,-298.5\"/>\n<text text-anchor=\"start\" x=\"448\" y=\"-283.3\" font-family=\"Helvetica,sans-Serif\" font-size=\"14.00\" fill=\"#000000\">gini = 0.0</text>\n<text text-anchor=\"start\" x=\"438\" y=\"-268.3\" font-family=\"Helvetica,sans-Serif\" font-size=\"14.00\" fill=\"#000000\">samples = 2</text>\n<text text-anchor=\"start\" x=\"428\" y=\"-253.3\" font-family=\"Helvetica,sans-Serif\" font-size=\"14.00\" fill=\"#000000\">value = [0, 0, 2]</text>\n<text text-anchor=\"start\" x=\"427.5\" y=\"-238.3\" font-family=\"Helvetica,sans-Serif\" font-size=\"14.00\" fill=\"#000000\">class = class_2</text>\n</g>\n<!-- 9&#45;&gt;10 -->\n<g id=\"edge10\" class=\"edge\">\n<title>9&#45;&gt;10</title>\n<path fill=\"none\" stroke=\"#000000\" d=\"M498.308,-341.8796C495.4102,-331.1034 492.2804,-319.4647 489.3501,-308.5677\"/>\n<polygon fill=\"#000000\" stroke=\"#000000\" points=\"492.7044,-307.563 486.7275,-298.8149 485.9445,-309.3808 492.7044,-307.563\"/>\n</g>\n<!-- 11 -->\n<g id=\"node12\" class=\"node\">\n<title>11</title>\n<path fill=\"#3fe685\" stroke=\"#000000\" d=\"M665,-306C665,-306 566,-306 566,-306 560,-306 554,-300 554,-294 554,-294 554,-235 554,-235 554,-229 560,-223 566,-223 566,-223 665,-223 665,-223 671,-223 677,-229 677,-235 677,-235 677,-294 677,-294 677,-300 671,-306 665,-306\"/>\n<text text-anchor=\"start\" x=\"562\" y=\"-290.8\" font-family=\"Helvetica,sans-Serif\" font-size=\"14.00\" fill=\"#000000\">alcohol ≤ 13.175</text>\n<text text-anchor=\"start\" x=\"577.5\" y=\"-275.8\" font-family=\"Helvetica,sans-Serif\" font-size=\"14.00\" fill=\"#000000\">gini = 0.061</text>\n<text text-anchor=\"start\" x=\"571.5\" y=\"-260.8\" font-family=\"Helvetica,sans-Serif\" font-size=\"14.00\" fill=\"#000000\">samples = 63</text>\n<text text-anchor=\"start\" x=\"562\" y=\"-245.8\" font-family=\"Helvetica,sans-Serif\" font-size=\"14.00\" fill=\"#000000\">value = [2, 61, 0]</text>\n<text text-anchor=\"start\" x=\"565.5\" y=\"-230.8\" font-family=\"Helvetica,sans-Serif\" font-size=\"14.00\" fill=\"#000000\">class = class_1</text>\n</g>\n<!-- 9&#45;&gt;11 -->\n<g id=\"edge11\" class=\"edge\">\n<title>9&#45;&gt;11</title>\n<path fill=\"none\" stroke=\"#000000\" d=\"M546.5737,-341.8796C554.5961,-332.8733 563.1552,-323.2644 571.4167,-313.9897\"/>\n<polygon fill=\"#000000\" stroke=\"#000000\" points=\"574.2302,-316.0933 578.2681,-306.2981 569.0031,-311.4373 574.2302,-316.0933\"/>\n</g>\n<!-- 12 -->\n<g id=\"node13\" class=\"node\">\n<title>12</title>\n<path fill=\"#39e581\" stroke=\"#000000\" d=\"M662,-179.5C662,-179.5 563,-179.5 563,-179.5 557,-179.5 551,-173.5 551,-167.5 551,-167.5 551,-123.5 551,-123.5 551,-117.5 557,-111.5 563,-111.5 563,-111.5 662,-111.5 662,-111.5 668,-111.5 674,-117.5 674,-123.5 674,-123.5 674,-167.5 674,-167.5 674,-173.5 668,-179.5 662,-179.5\"/>\n<text text-anchor=\"start\" x=\"583\" y=\"-164.3\" font-family=\"Helvetica,sans-Serif\" font-size=\"14.00\" fill=\"#000000\">gini = 0.0</text>\n<text text-anchor=\"start\" x=\"568.5\" y=\"-149.3\" font-family=\"Helvetica,sans-Serif\" font-size=\"14.00\" fill=\"#000000\">samples = 58</text>\n<text text-anchor=\"start\" x=\"559\" y=\"-134.3\" font-family=\"Helvetica,sans-Serif\" font-size=\"14.00\" fill=\"#000000\">value = [0, 58, 0]</text>\n<text text-anchor=\"start\" x=\"562.5\" y=\"-119.3\" font-family=\"Helvetica,sans-Serif\" font-size=\"14.00\" fill=\"#000000\">class = class_1</text>\n</g>\n<!-- 11&#45;&gt;12 -->\n<g id=\"edge12\" class=\"edge\">\n<title>11&#45;&gt;12</title>\n<path fill=\"none\" stroke=\"#000000\" d=\"M614.4507,-222.8796C614.1818,-212.2134 613.8916,-200.7021 613.6194,-189.9015\"/>\n<polygon fill=\"#000000\" stroke=\"#000000\" points=\"617.1161,-189.7235 613.3651,-179.8149 610.1183,-189.9 617.1161,-189.7235\"/>\n</g>\n<!-- 13 -->\n<g id=\"node14\" class=\"node\">\n<title>13</title>\n<path fill=\"#bdf6d5\" stroke=\"#000000\" d=\"M796.5,-187C796.5,-187 704.5,-187 704.5,-187 698.5,-187 692.5,-181 692.5,-175 692.5,-175 692.5,-116 692.5,-116 692.5,-110 698.5,-104 704.5,-104 704.5,-104 796.5,-104 796.5,-104 802.5,-104 808.5,-110 808.5,-116 808.5,-116 808.5,-175 808.5,-175 808.5,-181 802.5,-187 796.5,-187\"/>\n<text text-anchor=\"start\" x=\"702.5\" y=\"-171.8\" font-family=\"Helvetica,sans-Serif\" font-size=\"14.00\" fill=\"#000000\">proline ≤ 655.0</text>\n<text text-anchor=\"start\" x=\"717\" y=\"-156.8\" font-family=\"Helvetica,sans-Serif\" font-size=\"14.00\" fill=\"#000000\">gini = 0.48</text>\n<text text-anchor=\"start\" x=\"711\" y=\"-141.8\" font-family=\"Helvetica,sans-Serif\" font-size=\"14.00\" fill=\"#000000\">samples = 5</text>\n<text text-anchor=\"start\" x=\"701\" y=\"-126.8\" font-family=\"Helvetica,sans-Serif\" font-size=\"14.00\" fill=\"#000000\">value = [2, 3, 0]</text>\n<text text-anchor=\"start\" x=\"700.5\" y=\"-111.8\" font-family=\"Helvetica,sans-Serif\" font-size=\"14.00\" fill=\"#000000\">class = class_1</text>\n</g>\n<!-- 11&#45;&gt;13 -->\n<g id=\"edge13\" class=\"edge\">\n<title>11&#45;&gt;13</title>\n<path fill=\"none\" stroke=\"#000000\" d=\"M662.7164,-222.8796C673.2402,-213.6031 684.4891,-203.6874 695.3021,-194.1559\"/>\n<polygon fill=\"#000000\" stroke=\"#000000\" points=\"697.8948,-196.5362 703.082,-187.2981 693.266,-191.2851 697.8948,-196.5362\"/>\n</g>\n<!-- 14 -->\n<g id=\"node15\" class=\"node\">\n<title>14</title>\n<path fill=\"#39e581\" stroke=\"#000000\" d=\"M729.5,-68C729.5,-68 637.5,-68 637.5,-68 631.5,-68 625.5,-62 625.5,-56 625.5,-56 625.5,-12 625.5,-12 625.5,-6 631.5,0 637.5,0 637.5,0 729.5,0 729.5,0 735.5,0 741.5,-6 741.5,-12 741.5,-12 741.5,-56 741.5,-56 741.5,-62 735.5,-68 729.5,-68\"/>\n<text text-anchor=\"start\" x=\"654\" y=\"-52.8\" font-family=\"Helvetica,sans-Serif\" font-size=\"14.00\" fill=\"#000000\">gini = 0.0</text>\n<text text-anchor=\"start\" x=\"644\" y=\"-37.8\" font-family=\"Helvetica,sans-Serif\" font-size=\"14.00\" fill=\"#000000\">samples = 3</text>\n<text text-anchor=\"start\" x=\"634\" y=\"-22.8\" font-family=\"Helvetica,sans-Serif\" font-size=\"14.00\" fill=\"#000000\">value = [0, 3, 0]</text>\n<text text-anchor=\"start\" x=\"633.5\" y=\"-7.8\" font-family=\"Helvetica,sans-Serif\" font-size=\"14.00\" fill=\"#000000\">class = class_1</text>\n</g>\n<!-- 13&#45;&gt;14 -->\n<g id=\"edge14\" class=\"edge\">\n<title>13&#45;&gt;14</title>\n<path fill=\"none\" stroke=\"#000000\" d=\"M725.5517,-103.9815C720.2499,-95.1585 714.6419,-85.8258 709.3089,-76.9506\"/>\n<polygon fill=\"#000000\" stroke=\"#000000\" points=\"712.2396,-75.0325 704.0889,-68.2637 706.2395,-78.638 712.2396,-75.0325\"/>\n</g>\n<!-- 15 -->\n<g id=\"node16\" class=\"node\">\n<title>15</title>\n<path fill=\"#e58139\" stroke=\"#000000\" d=\"M863.5,-68C863.5,-68 771.5,-68 771.5,-68 765.5,-68 759.5,-62 759.5,-56 759.5,-56 759.5,-12 759.5,-12 759.5,-6 765.5,0 771.5,0 771.5,0 863.5,0 863.5,0 869.5,0 875.5,-6 875.5,-12 875.5,-12 875.5,-56 875.5,-56 875.5,-62 869.5,-68 863.5,-68\"/>\n<text text-anchor=\"start\" x=\"788\" y=\"-52.8\" font-family=\"Helvetica,sans-Serif\" font-size=\"14.00\" fill=\"#000000\">gini = 0.0</text>\n<text text-anchor=\"start\" x=\"778\" y=\"-37.8\" font-family=\"Helvetica,sans-Serif\" font-size=\"14.00\" fill=\"#000000\">samples = 2</text>\n<text text-anchor=\"start\" x=\"768\" y=\"-22.8\" font-family=\"Helvetica,sans-Serif\" font-size=\"14.00\" fill=\"#000000\">value = [2, 0, 0]</text>\n<text text-anchor=\"start\" x=\"767.5\" y=\"-7.8\" font-family=\"Helvetica,sans-Serif\" font-size=\"14.00\" fill=\"#000000\">class = class_0</text>\n</g>\n<!-- 13&#45;&gt;15 -->\n<g id=\"edge15\" class=\"edge\">\n<title>13&#45;&gt;15</title>\n<path fill=\"none\" stroke=\"#000000\" d=\"M775.4483,-103.9815C780.7501,-95.1585 786.3581,-85.8258 791.6911,-76.9506\"/>\n<polygon fill=\"#000000\" stroke=\"#000000\" points=\"794.7605,-78.638 796.9111,-68.2637 788.7604,-75.0325 794.7605,-78.638\"/>\n</g>\n<!-- 17 -->\n<g id=\"node18\" class=\"node\">\n<title>17</title>\n<path fill=\"#ab7bee\" stroke=\"#000000\" d=\"M866,-425C866,-425 753,-425 753,-425 747,-425 741,-419 741,-413 741,-413 741,-354 741,-354 741,-348 747,-342 753,-342 753,-342 866,-342 866,-342 872,-342 878,-348 878,-354 878,-354 878,-413 878,-413 878,-419 872,-425 866,-425\"/>\n<text text-anchor=\"start\" x=\"749\" y=\"-409.8\" font-family=\"Helvetica,sans-Serif\" font-size=\"14.00\" fill=\"#000000\">malic_acid ≤ 2.085</text>\n<text text-anchor=\"start\" x=\"771.5\" y=\"-394.8\" font-family=\"Helvetica,sans-Serif\" font-size=\"14.00\" fill=\"#000000\">gini = 0.375</text>\n<text text-anchor=\"start\" x=\"770\" y=\"-379.8\" font-family=\"Helvetica,sans-Serif\" font-size=\"14.00\" fill=\"#000000\">samples = 8</text>\n<text text-anchor=\"start\" x=\"760\" y=\"-364.8\" font-family=\"Helvetica,sans-Serif\" font-size=\"14.00\" fill=\"#000000\">value = [0, 2, 6]</text>\n<text text-anchor=\"start\" x=\"759.5\" y=\"-349.8\" font-family=\"Helvetica,sans-Serif\" font-size=\"14.00\" fill=\"#000000\">class = class_2</text>\n</g>\n<!-- 16&#45;&gt;17 -->\n<g id=\"edge17\" class=\"edge\">\n<title>16&#45;&gt;17</title>\n<path fill=\"none\" stroke=\"#000000\" d=\"M809.5,-460.8796C809.5,-452.6838 809.5,-443.9891 809.5,-435.5013\"/>\n<polygon fill=\"#000000\" stroke=\"#000000\" points=\"813.0001,-435.298 809.5,-425.2981 806.0001,-435.2981 813.0001,-435.298\"/>\n</g>\n<!-- 20 -->\n<g id=\"node21\" class=\"node\">\n<title>20</title>\n<path fill=\"#e68540\" stroke=\"#000000\" d=\"M1085.5,-425C1085.5,-425 965.5,-425 965.5,-425 959.5,-425 953.5,-419 953.5,-413 953.5,-413 953.5,-354 953.5,-354 953.5,-348 959.5,-342 965.5,-342 965.5,-342 1085.5,-342 1085.5,-342 1091.5,-342 1097.5,-348 1097.5,-354 1097.5,-354 1097.5,-413 1097.5,-413 1097.5,-419 1091.5,-425 1085.5,-425\"/>\n<text text-anchor=\"start\" x=\"961.5\" y=\"-409.8\" font-family=\"Helvetica,sans-Serif\" font-size=\"14.00\" fill=\"#000000\">magnesium ≤ 135.5</text>\n<text text-anchor=\"start\" x=\"987.5\" y=\"-394.8\" font-family=\"Helvetica,sans-Serif\" font-size=\"14.00\" fill=\"#000000\">gini = 0.065</text>\n<text text-anchor=\"start\" x=\"981.5\" y=\"-379.8\" font-family=\"Helvetica,sans-Serif\" font-size=\"14.00\" fill=\"#000000\">samples = 59</text>\n<text text-anchor=\"start\" x=\"972\" y=\"-364.8\" font-family=\"Helvetica,sans-Serif\" font-size=\"14.00\" fill=\"#000000\">value = [57, 2, 0]</text>\n<text text-anchor=\"start\" x=\"975.5\" y=\"-349.8\" font-family=\"Helvetica,sans-Serif\" font-size=\"14.00\" fill=\"#000000\">class = class_0</text>\n</g>\n<!-- 16&#45;&gt;20 -->\n<g id=\"edge20\" class=\"edge\">\n<title>16&#45;&gt;20</title>\n<path fill=\"none\" stroke=\"#000000\" d=\"M876.6597,-465.5C898.0883,-453.6944 922.0325,-440.5029 944.3446,-428.2106\"/>\n<polygon fill=\"#000000\" stroke=\"#000000\" points=\"946.0641,-431.2594 953.134,-423.3683 942.6863,-425.1282 946.0641,-431.2594\"/>\n</g>\n<!-- 18 -->\n<g id=\"node19\" class=\"node\">\n<title>18</title>\n<path fill=\"#39e581\" stroke=\"#000000\" d=\"M799.5,-298.5C799.5,-298.5 707.5,-298.5 707.5,-298.5 701.5,-298.5 695.5,-292.5 695.5,-286.5 695.5,-286.5 695.5,-242.5 695.5,-242.5 695.5,-236.5 701.5,-230.5 707.5,-230.5 707.5,-230.5 799.5,-230.5 799.5,-230.5 805.5,-230.5 811.5,-236.5 811.5,-242.5 811.5,-242.5 811.5,-286.5 811.5,-286.5 811.5,-292.5 805.5,-298.5 799.5,-298.5\"/>\n<text text-anchor=\"start\" x=\"724\" y=\"-283.3\" font-family=\"Helvetica,sans-Serif\" font-size=\"14.00\" fill=\"#000000\">gini = 0.0</text>\n<text text-anchor=\"start\" x=\"714\" y=\"-268.3\" font-family=\"Helvetica,sans-Serif\" font-size=\"14.00\" fill=\"#000000\">samples = 2</text>\n<text text-anchor=\"start\" x=\"704\" y=\"-253.3\" font-family=\"Helvetica,sans-Serif\" font-size=\"14.00\" fill=\"#000000\">value = [0, 2, 0]</text>\n<text text-anchor=\"start\" x=\"703.5\" y=\"-238.3\" font-family=\"Helvetica,sans-Serif\" font-size=\"14.00\" fill=\"#000000\">class = class_1</text>\n</g>\n<!-- 17&#45;&gt;18 -->\n<g id=\"edge18\" class=\"edge\">\n<title>17&#45;&gt;18</title>\n<path fill=\"none\" stroke=\"#000000\" d=\"M789.9139,-341.8796C784.7393,-330.8835 779.142,-318.9893 773.9242,-307.9015\"/>\n<polygon fill=\"#000000\" stroke=\"#000000\" points=\"777.0731,-306.3728 769.6482,-298.8149 770.7394,-309.3534 777.0731,-306.3728\"/>\n</g>\n<!-- 19 -->\n<g id=\"node20\" class=\"node\">\n<title>19</title>\n<path fill=\"#8139e5\" stroke=\"#000000\" d=\"M933.5,-298.5C933.5,-298.5 841.5,-298.5 841.5,-298.5 835.5,-298.5 829.5,-292.5 829.5,-286.5 829.5,-286.5 829.5,-242.5 829.5,-242.5 829.5,-236.5 835.5,-230.5 841.5,-230.5 841.5,-230.5 933.5,-230.5 933.5,-230.5 939.5,-230.5 945.5,-236.5 945.5,-242.5 945.5,-242.5 945.5,-286.5 945.5,-286.5 945.5,-292.5 939.5,-298.5 933.5,-298.5\"/>\n<text text-anchor=\"start\" x=\"858\" y=\"-283.3\" font-family=\"Helvetica,sans-Serif\" font-size=\"14.00\" fill=\"#000000\">gini = 0.0</text>\n<text text-anchor=\"start\" x=\"848\" y=\"-268.3\" font-family=\"Helvetica,sans-Serif\" font-size=\"14.00\" fill=\"#000000\">samples = 6</text>\n<text text-anchor=\"start\" x=\"838\" y=\"-253.3\" font-family=\"Helvetica,sans-Serif\" font-size=\"14.00\" fill=\"#000000\">value = [0, 0, 6]</text>\n<text text-anchor=\"start\" x=\"837.5\" y=\"-238.3\" font-family=\"Helvetica,sans-Serif\" font-size=\"14.00\" fill=\"#000000\">class = class_2</text>\n</g>\n<!-- 17&#45;&gt;19 -->\n<g id=\"edge19\" class=\"edge\">\n<title>17&#45;&gt;19</title>\n<path fill=\"none\" stroke=\"#000000\" d=\"M836.7806,-341.8796C844.1323,-330.6636 852.0964,-318.5131 859.4874,-307.2372\"/>\n<polygon fill=\"#000000\" stroke=\"#000000\" points=\"862.4531,-309.0972 865.0079,-298.8149 856.5986,-305.2598 862.4531,-309.0972\"/>\n</g>\n<!-- 21 -->\n<g id=\"node22\" class=\"node\">\n<title>21</title>\n<path fill=\"#e58139\" stroke=\"#000000\" d=\"M1075,-298.5C1075,-298.5 976,-298.5 976,-298.5 970,-298.5 964,-292.5 964,-286.5 964,-286.5 964,-242.5 964,-242.5 964,-236.5 970,-230.5 976,-230.5 976,-230.5 1075,-230.5 1075,-230.5 1081,-230.5 1087,-236.5 1087,-242.5 1087,-242.5 1087,-286.5 1087,-286.5 1087,-292.5 1081,-298.5 1075,-298.5\"/>\n<text text-anchor=\"start\" x=\"996\" y=\"-283.3\" font-family=\"Helvetica,sans-Serif\" font-size=\"14.00\" fill=\"#000000\">gini = 0.0</text>\n<text text-anchor=\"start\" x=\"981.5\" y=\"-268.3\" font-family=\"Helvetica,sans-Serif\" font-size=\"14.00\" fill=\"#000000\">samples = 57</text>\n<text text-anchor=\"start\" x=\"972\" y=\"-253.3\" font-family=\"Helvetica,sans-Serif\" font-size=\"14.00\" fill=\"#000000\">value = [57, 0, 0]</text>\n<text text-anchor=\"start\" x=\"975.5\" y=\"-238.3\" font-family=\"Helvetica,sans-Serif\" font-size=\"14.00\" fill=\"#000000\">class = class_0</text>\n</g>\n<!-- 20&#45;&gt;21 -->\n<g id=\"edge21\" class=\"edge\">\n<title>20&#45;&gt;21</title>\n<path fill=\"none\" stroke=\"#000000\" d=\"M1025.5,-341.8796C1025.5,-331.2134 1025.5,-319.7021 1025.5,-308.9015\"/>\n<polygon fill=\"#000000\" stroke=\"#000000\" points=\"1029.0001,-308.8149 1025.5,-298.8149 1022.0001,-308.815 1029.0001,-308.8149\"/>\n</g>\n<!-- 22 -->\n<g id=\"node23\" class=\"node\">\n<title>22</title>\n<path fill=\"#39e581\" stroke=\"#000000\" d=\"M1209.5,-298.5C1209.5,-298.5 1117.5,-298.5 1117.5,-298.5 1111.5,-298.5 1105.5,-292.5 1105.5,-286.5 1105.5,-286.5 1105.5,-242.5 1105.5,-242.5 1105.5,-236.5 1111.5,-230.5 1117.5,-230.5 1117.5,-230.5 1209.5,-230.5 1209.5,-230.5 1215.5,-230.5 1221.5,-236.5 1221.5,-242.5 1221.5,-242.5 1221.5,-286.5 1221.5,-286.5 1221.5,-292.5 1215.5,-298.5 1209.5,-298.5\"/>\n<text text-anchor=\"start\" x=\"1134\" y=\"-283.3\" font-family=\"Helvetica,sans-Serif\" font-size=\"14.00\" fill=\"#000000\">gini = 0.0</text>\n<text text-anchor=\"start\" x=\"1124\" y=\"-268.3\" font-family=\"Helvetica,sans-Serif\" font-size=\"14.00\" fill=\"#000000\">samples = 2</text>\n<text text-anchor=\"start\" x=\"1114\" y=\"-253.3\" font-family=\"Helvetica,sans-Serif\" font-size=\"14.00\" fill=\"#000000\">value = [0, 2, 0]</text>\n<text text-anchor=\"start\" x=\"1113.5\" y=\"-238.3\" font-family=\"Helvetica,sans-Serif\" font-size=\"14.00\" fill=\"#000000\">class = class_1</text>\n</g>\n<!-- 20&#45;&gt;22 -->\n<g id=\"edge22\" class=\"edge\">\n<title>20&#45;&gt;22</title>\n<path fill=\"none\" stroke=\"#000000\" d=\"M1073.7657,-341.8796C1087.4101,-330.1138 1102.2469,-317.3197 1115.8546,-305.5855\"/>\n<polygon fill=\"#000000\" stroke=\"#000000\" points=\"1118.4187,-307.9961 1123.7062,-298.8149 1113.8473,-302.6948 1118.4187,-307.9961\"/>\n</g>\n</g>\n</svg>\n"
          },
          "metadata": {
            "tags": []
          },
          "execution_count": 36
        }
      ]
    },
    {
      "cell_type": "markdown",
      "metadata": {
        "id": "J8VjvMvzfmhr",
        "colab_type": "text"
      },
      "source": [
        "establecer criterio en entropía"
      ]
    },
    {
      "cell_type": "code",
      "metadata": {
        "id": "gfhnVbJGfgWx",
        "colab_type": "code",
        "colab": {}
      },
      "source": [
        "clf = tree.DecisionTreeClassifier(criterion='entropy')\n",
        "clf = clf.fit(wine.data, wine.target)"
      ],
      "execution_count": 37,
      "outputs": []
    },
    {
      "cell_type": "markdown",
      "metadata": {
        "id": "LkzeABv4ft34",
        "colab_type": "text"
      },
      "source": [
        "visualización del árbol de decisiones de impresión"
      ]
    },
    {
      "cell_type": "code",
      "metadata": {
        "id": "CaSEboA2fqXW",
        "colab_type": "code",
        "colab": {
          "base_uri": "https://localhost:8080/",
          "height": 757
        },
        "outputId": "8abf22e0-8aba-4112-e816-20f83baa16eb"
      },
      "source": [
        "dot_data = tree.export_graphviz(clf, out_file=None) \n",
        "graph = graphviz.Source(dot_data) \n",
        "graph.render(\"wine\") \n",
        "dot_data = tree.export_graphviz(clf, out_file=None, \n",
        "                         feature_names=wine.feature_names,  \n",
        "                         class_names=wine.target_names,  \n",
        "                         filled=True, rounded=True,\n",
        "                         special_characters=True)  \n",
        "graph = graphviz.Source(dot_data)  \n",
        "graph"
      ],
      "execution_count": 38,
      "outputs": [
        {
          "output_type": "execute_result",
          "data": {
            "text/plain": [
              "<graphviz.files.Source at 0x7f90dcd4eac8>"
            ],
            "image/svg+xml": "<?xml version=\"1.0\" encoding=\"UTF-8\" standalone=\"no\"?>\n<!DOCTYPE svg PUBLIC \"-//W3C//DTD SVG 1.1//EN\"\n \"http://www.w3.org/Graphics/SVG/1.1/DTD/svg11.dtd\">\n<!-- Generated by graphviz version 2.40.1 (20161225.0304)\n -->\n<!-- Title: Tree Pages: 1 -->\n<svg width=\"827pt\" height=\"552pt\"\n viewBox=\"0.00 0.00 827.00 552.00\" xmlns=\"http://www.w3.org/2000/svg\" xmlns:xlink=\"http://www.w3.org/1999/xlink\">\n<g id=\"graph0\" class=\"graph\" transform=\"scale(1 1) rotate(0) translate(4 548)\">\n<title>Tree</title>\n<polygon fill=\"#ffffff\" stroke=\"transparent\" points=\"-4,4 -4,-548 823,-548 823,4 -4,4\"/>\n<!-- 0 -->\n<g id=\"node1\" class=\"node\">\n<title>0</title>\n<path fill=\"#ebfcf2\" stroke=\"#000000\" d=\"M342.5,-544C342.5,-544 226.5,-544 226.5,-544 220.5,-544 214.5,-538 214.5,-532 214.5,-532 214.5,-473 214.5,-473 214.5,-467 220.5,-461 226.5,-461 226.5,-461 342.5,-461 342.5,-461 348.5,-461 354.5,-467 354.5,-473 354.5,-473 354.5,-532 354.5,-532 354.5,-538 348.5,-544 342.5,-544\"/>\n<text text-anchor=\"start\" x=\"225.5\" y=\"-528.8\" font-family=\"Helvetica,sans-Serif\" font-size=\"14.00\" fill=\"#000000\">flavanoids ≤ 1.575</text>\n<text text-anchor=\"start\" x=\"233.5\" y=\"-513.8\" font-family=\"Helvetica,sans-Serif\" font-size=\"14.00\" fill=\"#000000\">entropy = 1.567</text>\n<text text-anchor=\"start\" x=\"236.5\" y=\"-498.8\" font-family=\"Helvetica,sans-Serif\" font-size=\"14.00\" fill=\"#000000\">samples = 178</text>\n<text text-anchor=\"start\" x=\"222.5\" y=\"-483.8\" font-family=\"Helvetica,sans-Serif\" font-size=\"14.00\" fill=\"#000000\">value = [59, 71, 48]</text>\n<text text-anchor=\"start\" x=\"234.5\" y=\"-468.8\" font-family=\"Helvetica,sans-Serif\" font-size=\"14.00\" fill=\"#000000\">class = class_1</text>\n</g>\n<!-- 1 -->\n<g id=\"node2\" class=\"node\">\n<title>1</title>\n<path fill=\"#a673ed\" stroke=\"#000000\" d=\"M271,-425C271,-425 134,-425 134,-425 128,-425 122,-419 122,-413 122,-413 122,-354 122,-354 122,-348 128,-342 134,-342 134,-342 271,-342 271,-342 277,-342 283,-348 283,-354 283,-354 283,-413 283,-413 283,-419 277,-425 271,-425\"/>\n<text text-anchor=\"start\" x=\"130\" y=\"-409.8\" font-family=\"Helvetica,sans-Serif\" font-size=\"14.00\" fill=\"#000000\">color_intensity ≤ 3.825</text>\n<text text-anchor=\"start\" x=\"151.5\" y=\"-394.8\" font-family=\"Helvetica,sans-Serif\" font-size=\"14.00\" fill=\"#000000\">entropy = 0.771</text>\n<text text-anchor=\"start\" x=\"158.5\" y=\"-379.8\" font-family=\"Helvetica,sans-Serif\" font-size=\"14.00\" fill=\"#000000\">samples = 62</text>\n<text text-anchor=\"start\" x=\"145\" y=\"-364.8\" font-family=\"Helvetica,sans-Serif\" font-size=\"14.00\" fill=\"#000000\">value = [0, 14, 48]</text>\n<text text-anchor=\"start\" x=\"152.5\" y=\"-349.8\" font-family=\"Helvetica,sans-Serif\" font-size=\"14.00\" fill=\"#000000\">class = class_2</text>\n</g>\n<!-- 0&#45;&gt;1 -->\n<g id=\"edge1\" class=\"edge\">\n<title>0&#45;&gt;1</title>\n<path fill=\"none\" stroke=\"#000000\" d=\"M255.8204,-460.8796C249.7385,-452.0534 243.2578,-442.6485 236.9859,-433.5466\"/>\n<polygon fill=\"#000000\" stroke=\"#000000\" points=\"239.8582,-431.5465 231.302,-425.2981 234.0941,-435.5184 239.8582,-431.5465\"/>\n<text text-anchor=\"middle\" x=\"226.7761\" y=\"-446.185\" font-family=\"Helvetica,sans-Serif\" font-size=\"14.00\" fill=\"#000000\">True</text>\n</g>\n<!-- 6 -->\n<g id=\"node7\" class=\"node\">\n<title>6</title>\n<path fill=\"#fefbf8\" stroke=\"#000000\" d=\"M468,-425C468,-425 361,-425 361,-425 355,-425 349,-419 349,-413 349,-413 349,-354 349,-354 349,-348 355,-342 361,-342 361,-342 468,-342 468,-342 474,-342 480,-348 480,-354 480,-354 480,-413 480,-413 480,-419 474,-425 468,-425\"/>\n<text text-anchor=\"start\" x=\"366.5\" y=\"-409.8\" font-family=\"Helvetica,sans-Serif\" font-size=\"14.00\" fill=\"#000000\">proline ≤ 724.5</text>\n<text text-anchor=\"start\" x=\"372\" y=\"-394.8\" font-family=\"Helvetica,sans-Serif\" font-size=\"14.00\" fill=\"#000000\">entropy = 1.0</text>\n<text text-anchor=\"start\" x=\"366.5\" y=\"-379.8\" font-family=\"Helvetica,sans-Serif\" font-size=\"14.00\" fill=\"#000000\">samples = 116</text>\n<text text-anchor=\"start\" x=\"357\" y=\"-364.8\" font-family=\"Helvetica,sans-Serif\" font-size=\"14.00\" fill=\"#000000\">value = [59, 57, 0]</text>\n<text text-anchor=\"start\" x=\"364.5\" y=\"-349.8\" font-family=\"Helvetica,sans-Serif\" font-size=\"14.00\" fill=\"#000000\">class = class_0</text>\n</g>\n<!-- 0&#45;&gt;6 -->\n<g id=\"edge6\" class=\"edge\">\n<title>0&#45;&gt;6</title>\n<path fill=\"none\" stroke=\"#000000\" d=\"M329.9677,-460.8796C340.1017,-451.6031 350.934,-441.6874 361.3465,-432.1559\"/>\n<polygon fill=\"#000000\" stroke=\"#000000\" points=\"363.8252,-434.6319 368.8382,-425.2981 359.0987,-429.4685 363.8252,-434.6319\"/>\n<text text-anchor=\"middle\" x=\"367.7349\" y=\"-446.5737\" font-family=\"Helvetica,sans-Serif\" font-size=\"14.00\" fill=\"#000000\">False</text>\n</g>\n<!-- 2 -->\n<g id=\"node3\" class=\"node\">\n<title>2</title>\n<path fill=\"#39e581\" stroke=\"#000000\" d=\"M111,-298.5C111,-298.5 12,-298.5 12,-298.5 6,-298.5 0,-292.5 0,-286.5 0,-286.5 0,-242.5 0,-242.5 0,-236.5 6,-230.5 12,-230.5 12,-230.5 111,-230.5 111,-230.5 117,-230.5 123,-236.5 123,-242.5 123,-242.5 123,-286.5 123,-286.5 123,-292.5 117,-298.5 111,-298.5\"/>\n<text text-anchor=\"start\" x=\"19\" y=\"-283.3\" font-family=\"Helvetica,sans-Serif\" font-size=\"14.00\" fill=\"#000000\">entropy = 0.0</text>\n<text text-anchor=\"start\" x=\"17.5\" y=\"-268.3\" font-family=\"Helvetica,sans-Serif\" font-size=\"14.00\" fill=\"#000000\">samples = 13</text>\n<text text-anchor=\"start\" x=\"8\" y=\"-253.3\" font-family=\"Helvetica,sans-Serif\" font-size=\"14.00\" fill=\"#000000\">value = [0, 13, 0]</text>\n<text text-anchor=\"start\" x=\"11.5\" y=\"-238.3\" font-family=\"Helvetica,sans-Serif\" font-size=\"14.00\" fill=\"#000000\">class = class_1</text>\n</g>\n<!-- 1&#45;&gt;2 -->\n<g id=\"edge2\" class=\"edge\">\n<title>1&#45;&gt;2</title>\n<path fill=\"none\" stroke=\"#000000\" d=\"M153.185,-341.8796C139.244,-330.1138 124.0846,-317.3197 110.1812,-305.5855\"/>\n<polygon fill=\"#000000\" stroke=\"#000000\" points=\"112.0584,-302.5899 102.1589,-298.8149 107.5436,-307.9394 112.0584,-302.5899\"/>\n</g>\n<!-- 3 -->\n<g id=\"node4\" class=\"node\">\n<title>3</title>\n<path fill=\"#843de6\" stroke=\"#000000\" d=\"M252,-306C252,-306 153,-306 153,-306 147,-306 141,-300 141,-294 141,-294 141,-235 141,-235 141,-229 147,-223 153,-223 153,-223 252,-223 252,-223 258,-223 264,-229 264,-235 264,-235 264,-294 264,-294 264,-300 258,-306 252,-306\"/>\n<text text-anchor=\"start\" x=\"168\" y=\"-290.8\" font-family=\"Helvetica,sans-Serif\" font-size=\"14.00\" fill=\"#000000\">hue ≤ 0.97</text>\n<text text-anchor=\"start\" x=\"151.5\" y=\"-275.8\" font-family=\"Helvetica,sans-Serif\" font-size=\"14.00\" fill=\"#000000\">entropy = 0.144</text>\n<text text-anchor=\"start\" x=\"158.5\" y=\"-260.8\" font-family=\"Helvetica,sans-Serif\" font-size=\"14.00\" fill=\"#000000\">samples = 49</text>\n<text text-anchor=\"start\" x=\"149\" y=\"-245.8\" font-family=\"Helvetica,sans-Serif\" font-size=\"14.00\" fill=\"#000000\">value = [0, 1, 48]</text>\n<text text-anchor=\"start\" x=\"152.5\" y=\"-230.8\" font-family=\"Helvetica,sans-Serif\" font-size=\"14.00\" fill=\"#000000\">class = class_2</text>\n</g>\n<!-- 1&#45;&gt;3 -->\n<g id=\"edge3\" class=\"edge\">\n<title>1&#45;&gt;3</title>\n<path fill=\"none\" stroke=\"#000000\" d=\"M202.5,-341.8796C202.5,-333.6838 202.5,-324.9891 202.5,-316.5013\"/>\n<polygon fill=\"#000000\" stroke=\"#000000\" points=\"206.0001,-316.298 202.5,-306.2981 199.0001,-316.2981 206.0001,-316.298\"/>\n</g>\n<!-- 4 -->\n<g id=\"node5\" class=\"node\">\n<title>4</title>\n<path fill=\"#8139e5\" stroke=\"#000000\" d=\"M114,-179.5C114,-179.5 15,-179.5 15,-179.5 9,-179.5 3,-173.5 3,-167.5 3,-167.5 3,-123.5 3,-123.5 3,-117.5 9,-111.5 15,-111.5 15,-111.5 114,-111.5 114,-111.5 120,-111.5 126,-117.5 126,-123.5 126,-123.5 126,-167.5 126,-167.5 126,-173.5 120,-179.5 114,-179.5\"/>\n<text text-anchor=\"start\" x=\"22\" y=\"-164.3\" font-family=\"Helvetica,sans-Serif\" font-size=\"14.00\" fill=\"#000000\">entropy = 0.0</text>\n<text text-anchor=\"start\" x=\"20.5\" y=\"-149.3\" font-family=\"Helvetica,sans-Serif\" font-size=\"14.00\" fill=\"#000000\">samples = 48</text>\n<text text-anchor=\"start\" x=\"11\" y=\"-134.3\" font-family=\"Helvetica,sans-Serif\" font-size=\"14.00\" fill=\"#000000\">value = [0, 0, 48]</text>\n<text text-anchor=\"start\" x=\"14.5\" y=\"-119.3\" font-family=\"Helvetica,sans-Serif\" font-size=\"14.00\" fill=\"#000000\">class = class_2</text>\n</g>\n<!-- 3&#45;&gt;4 -->\n<g id=\"edge4\" class=\"edge\">\n<title>3&#45;&gt;4</title>\n<path fill=\"none\" stroke=\"#000000\" d=\"M154.2343,-222.8796C140.5899,-211.1138 125.7531,-198.3197 112.1454,-186.5855\"/>\n<polygon fill=\"#000000\" stroke=\"#000000\" points=\"114.1527,-183.6948 104.2938,-179.8149 109.5813,-188.9961 114.1527,-183.6948\"/>\n</g>\n<!-- 5 -->\n<g id=\"node6\" class=\"node\">\n<title>5</title>\n<path fill=\"#39e581\" stroke=\"#000000\" d=\"M248.5,-179.5C248.5,-179.5 156.5,-179.5 156.5,-179.5 150.5,-179.5 144.5,-173.5 144.5,-167.5 144.5,-167.5 144.5,-123.5 144.5,-123.5 144.5,-117.5 150.5,-111.5 156.5,-111.5 156.5,-111.5 248.5,-111.5 248.5,-111.5 254.5,-111.5 260.5,-117.5 260.5,-123.5 260.5,-123.5 260.5,-167.5 260.5,-167.5 260.5,-173.5 254.5,-179.5 248.5,-179.5\"/>\n<text text-anchor=\"start\" x=\"160\" y=\"-164.3\" font-family=\"Helvetica,sans-Serif\" font-size=\"14.00\" fill=\"#000000\">entropy = 0.0</text>\n<text text-anchor=\"start\" x=\"163\" y=\"-149.3\" font-family=\"Helvetica,sans-Serif\" font-size=\"14.00\" fill=\"#000000\">samples = 1</text>\n<text text-anchor=\"start\" x=\"153\" y=\"-134.3\" font-family=\"Helvetica,sans-Serif\" font-size=\"14.00\" fill=\"#000000\">value = [0, 1, 0]</text>\n<text text-anchor=\"start\" x=\"152.5\" y=\"-119.3\" font-family=\"Helvetica,sans-Serif\" font-size=\"14.00\" fill=\"#000000\">class = class_1</text>\n</g>\n<!-- 3&#45;&gt;5 -->\n<g id=\"edge5\" class=\"edge\">\n<title>3&#45;&gt;5</title>\n<path fill=\"none\" stroke=\"#000000\" d=\"M202.5,-222.8796C202.5,-212.2134 202.5,-200.7021 202.5,-189.9015\"/>\n<polygon fill=\"#000000\" stroke=\"#000000\" points=\"206.0001,-189.8149 202.5,-179.8149 199.0001,-189.815 206.0001,-189.8149\"/>\n</g>\n<!-- 7 -->\n<g id=\"node8\" class=\"node\">\n<title>7</title>\n<path fill=\"#3de583\" stroke=\"#000000\" d=\"M464,-306C464,-306 365,-306 365,-306 359,-306 353,-300 353,-294 353,-294 353,-235 353,-235 353,-229 359,-223 365,-223 365,-223 464,-223 464,-223 470,-223 476,-229 476,-235 476,-235 476,-294 476,-294 476,-300 470,-306 464,-306\"/>\n<text text-anchor=\"start\" x=\"361\" y=\"-290.8\" font-family=\"Helvetica,sans-Serif\" font-size=\"14.00\" fill=\"#000000\">alcohol ≤ 13.175</text>\n<text text-anchor=\"start\" x=\"363.5\" y=\"-275.8\" font-family=\"Helvetica,sans-Serif\" font-size=\"14.00\" fill=\"#000000\">entropy = 0.133</text>\n<text text-anchor=\"start\" x=\"370.5\" y=\"-260.8\" font-family=\"Helvetica,sans-Serif\" font-size=\"14.00\" fill=\"#000000\">samples = 54</text>\n<text text-anchor=\"start\" x=\"361\" y=\"-245.8\" font-family=\"Helvetica,sans-Serif\" font-size=\"14.00\" fill=\"#000000\">value = [1, 53, 0]</text>\n<text text-anchor=\"start\" x=\"364.5\" y=\"-230.8\" font-family=\"Helvetica,sans-Serif\" font-size=\"14.00\" fill=\"#000000\">class = class_1</text>\n</g>\n<!-- 6&#45;&gt;7 -->\n<g id=\"edge7\" class=\"edge\">\n<title>6&#45;&gt;7</title>\n<path fill=\"none\" stroke=\"#000000\" d=\"M414.5,-341.8796C414.5,-333.6838 414.5,-324.9891 414.5,-316.5013\"/>\n<polygon fill=\"#000000\" stroke=\"#000000\" points=\"418.0001,-316.298 414.5,-306.2981 411.0001,-316.2981 418.0001,-316.298\"/>\n</g>\n<!-- 12 -->\n<g id=\"node13\" class=\"node\">\n<title>12</title>\n<path fill=\"#e78a47\" stroke=\"#000000\" d=\"M684,-306C684,-306 555,-306 555,-306 549,-306 543,-300 543,-294 543,-294 543,-235 543,-235 543,-229 549,-223 555,-223 555,-223 684,-223 684,-223 690,-223 696,-229 696,-235 696,-235 696,-294 696,-294 696,-300 690,-306 684,-306\"/>\n<text text-anchor=\"start\" x=\"551\" y=\"-290.8\" font-family=\"Helvetica,sans-Serif\" font-size=\"14.00\" fill=\"#000000\">color_intensity ≤ 3.46</text>\n<text text-anchor=\"start\" x=\"568.5\" y=\"-275.8\" font-family=\"Helvetica,sans-Serif\" font-size=\"14.00\" fill=\"#000000\">entropy = 0.345</text>\n<text text-anchor=\"start\" x=\"575.5\" y=\"-260.8\" font-family=\"Helvetica,sans-Serif\" font-size=\"14.00\" fill=\"#000000\">samples = 62</text>\n<text text-anchor=\"start\" x=\"566\" y=\"-245.8\" font-family=\"Helvetica,sans-Serif\" font-size=\"14.00\" fill=\"#000000\">value = [58, 4, 0]</text>\n<text text-anchor=\"start\" x=\"569.5\" y=\"-230.8\" font-family=\"Helvetica,sans-Serif\" font-size=\"14.00\" fill=\"#000000\">class = class_0</text>\n</g>\n<!-- 6&#45;&gt;12 -->\n<g id=\"edge12\" class=\"edge\">\n<title>6&#45;&gt;12</title>\n<path fill=\"none\" stroke=\"#000000\" d=\"M480.2092,-345.3566C498.896,-334.5092 519.4638,-322.5698 538.9253,-311.2727\"/>\n<polygon fill=\"#000000\" stroke=\"#000000\" points=\"540.8871,-314.1808 547.7785,-306.1335 537.3728,-308.1269 540.8871,-314.1808\"/>\n</g>\n<!-- 8 -->\n<g id=\"node9\" class=\"node\">\n<title>8</title>\n<path fill=\"#39e581\" stroke=\"#000000\" d=\"M390,-179.5C390,-179.5 291,-179.5 291,-179.5 285,-179.5 279,-173.5 279,-167.5 279,-167.5 279,-123.5 279,-123.5 279,-117.5 285,-111.5 291,-111.5 291,-111.5 390,-111.5 390,-111.5 396,-111.5 402,-117.5 402,-123.5 402,-123.5 402,-167.5 402,-167.5 402,-173.5 396,-179.5 390,-179.5\"/>\n<text text-anchor=\"start\" x=\"298\" y=\"-164.3\" font-family=\"Helvetica,sans-Serif\" font-size=\"14.00\" fill=\"#000000\">entropy = 0.0</text>\n<text text-anchor=\"start\" x=\"296.5\" y=\"-149.3\" font-family=\"Helvetica,sans-Serif\" font-size=\"14.00\" fill=\"#000000\">samples = 50</text>\n<text text-anchor=\"start\" x=\"287\" y=\"-134.3\" font-family=\"Helvetica,sans-Serif\" font-size=\"14.00\" fill=\"#000000\">value = [0, 50, 0]</text>\n<text text-anchor=\"start\" x=\"290.5\" y=\"-119.3\" font-family=\"Helvetica,sans-Serif\" font-size=\"14.00\" fill=\"#000000\">class = class_1</text>\n</g>\n<!-- 7&#45;&gt;8 -->\n<g id=\"edge8\" class=\"edge\">\n<title>7&#45;&gt;8</title>\n<path fill=\"none\" stroke=\"#000000\" d=\"M388.6184,-222.8796C381.7121,-211.7735 374.2361,-199.7513 367.2825,-188.5691\"/>\n<polygon fill=\"#000000\" stroke=\"#000000\" points=\"370.0917,-186.4587 361.8387,-179.8149 364.1473,-190.1552 370.0917,-186.4587\"/>\n</g>\n<!-- 9 -->\n<g id=\"node10\" class=\"node\">\n<title>9</title>\n<path fill=\"#7beeab\" stroke=\"#000000\" d=\"M531,-187C531,-187 432,-187 432,-187 426,-187 420,-181 420,-175 420,-175 420,-116 420,-116 420,-110 426,-104 432,-104 432,-104 531,-104 531,-104 537,-104 543,-110 543,-116 543,-116 543,-175 543,-175 543,-181 537,-187 531,-187\"/>\n<text text-anchor=\"start\" x=\"428\" y=\"-171.8\" font-family=\"Helvetica,sans-Serif\" font-size=\"14.00\" fill=\"#000000\">alcohol ≤ 13.365</text>\n<text text-anchor=\"start\" x=\"430.5\" y=\"-156.8\" font-family=\"Helvetica,sans-Serif\" font-size=\"14.00\" fill=\"#000000\">entropy = 0.811</text>\n<text text-anchor=\"start\" x=\"442\" y=\"-141.8\" font-family=\"Helvetica,sans-Serif\" font-size=\"14.00\" fill=\"#000000\">samples = 4</text>\n<text text-anchor=\"start\" x=\"432\" y=\"-126.8\" font-family=\"Helvetica,sans-Serif\" font-size=\"14.00\" fill=\"#000000\">value = [1, 3, 0]</text>\n<text text-anchor=\"start\" x=\"431.5\" y=\"-111.8\" font-family=\"Helvetica,sans-Serif\" font-size=\"14.00\" fill=\"#000000\">class = class_1</text>\n</g>\n<!-- 7&#45;&gt;9 -->\n<g id=\"edge9\" class=\"edge\">\n<title>7&#45;&gt;9</title>\n<path fill=\"none\" stroke=\"#000000\" d=\"M437.9333,-222.8796C442.8013,-214.2335 447.9819,-205.0322 453.0086,-196.1042\"/>\n<polygon fill=\"#000000\" stroke=\"#000000\" points=\"456.1103,-197.729 457.9666,-187.2981 450.0107,-194.2947 456.1103,-197.729\"/>\n</g>\n<!-- 10 -->\n<g id=\"node11\" class=\"node\">\n<title>10</title>\n<path fill=\"#e58139\" stroke=\"#000000\" d=\"M460.5,-68C460.5,-68 368.5,-68 368.5,-68 362.5,-68 356.5,-62 356.5,-56 356.5,-56 356.5,-12 356.5,-12 356.5,-6 362.5,0 368.5,0 368.5,0 460.5,0 460.5,0 466.5,0 472.5,-6 472.5,-12 472.5,-12 472.5,-56 472.5,-56 472.5,-62 466.5,-68 460.5,-68\"/>\n<text text-anchor=\"start\" x=\"372\" y=\"-52.8\" font-family=\"Helvetica,sans-Serif\" font-size=\"14.00\" fill=\"#000000\">entropy = 0.0</text>\n<text text-anchor=\"start\" x=\"375\" y=\"-37.8\" font-family=\"Helvetica,sans-Serif\" font-size=\"14.00\" fill=\"#000000\">samples = 1</text>\n<text text-anchor=\"start\" x=\"365\" y=\"-22.8\" font-family=\"Helvetica,sans-Serif\" font-size=\"14.00\" fill=\"#000000\">value = [1, 0, 0]</text>\n<text text-anchor=\"start\" x=\"364.5\" y=\"-7.8\" font-family=\"Helvetica,sans-Serif\" font-size=\"14.00\" fill=\"#000000\">class = class_0</text>\n</g>\n<!-- 9&#45;&gt;10 -->\n<g id=\"edge10\" class=\"edge\">\n<title>9&#45;&gt;10</title>\n<path fill=\"none\" stroke=\"#000000\" d=\"M456.5517,-103.9815C451.2499,-95.1585 445.6419,-85.8258 440.3089,-76.9506\"/>\n<polygon fill=\"#000000\" stroke=\"#000000\" points=\"443.2396,-75.0325 435.0889,-68.2637 437.2395,-78.638 443.2396,-75.0325\"/>\n</g>\n<!-- 11 -->\n<g id=\"node12\" class=\"node\">\n<title>11</title>\n<path fill=\"#39e581\" stroke=\"#000000\" d=\"M594.5,-68C594.5,-68 502.5,-68 502.5,-68 496.5,-68 490.5,-62 490.5,-56 490.5,-56 490.5,-12 490.5,-12 490.5,-6 496.5,0 502.5,0 502.5,0 594.5,0 594.5,0 600.5,0 606.5,-6 606.5,-12 606.5,-12 606.5,-56 606.5,-56 606.5,-62 600.5,-68 594.5,-68\"/>\n<text text-anchor=\"start\" x=\"506\" y=\"-52.8\" font-family=\"Helvetica,sans-Serif\" font-size=\"14.00\" fill=\"#000000\">entropy = 0.0</text>\n<text text-anchor=\"start\" x=\"509\" y=\"-37.8\" font-family=\"Helvetica,sans-Serif\" font-size=\"14.00\" fill=\"#000000\">samples = 3</text>\n<text text-anchor=\"start\" x=\"499\" y=\"-22.8\" font-family=\"Helvetica,sans-Serif\" font-size=\"14.00\" fill=\"#000000\">value = [0, 3, 0]</text>\n<text text-anchor=\"start\" x=\"498.5\" y=\"-7.8\" font-family=\"Helvetica,sans-Serif\" font-size=\"14.00\" fill=\"#000000\">class = class_1</text>\n</g>\n<!-- 9&#45;&gt;11 -->\n<g id=\"edge11\" class=\"edge\">\n<title>9&#45;&gt;11</title>\n<path fill=\"none\" stroke=\"#000000\" d=\"M506.4483,-103.9815C511.7501,-95.1585 517.3581,-85.8258 522.6911,-76.9506\"/>\n<polygon fill=\"#000000\" stroke=\"#000000\" points=\"525.7605,-78.638 527.9111,-68.2637 519.7604,-75.0325 525.7605,-78.638\"/>\n</g>\n<!-- 13 -->\n<g id=\"node14\" class=\"node\">\n<title>13</title>\n<path fill=\"#39e581\" stroke=\"#000000\" d=\"M665.5,-179.5C665.5,-179.5 573.5,-179.5 573.5,-179.5 567.5,-179.5 561.5,-173.5 561.5,-167.5 561.5,-167.5 561.5,-123.5 561.5,-123.5 561.5,-117.5 567.5,-111.5 573.5,-111.5 573.5,-111.5 665.5,-111.5 665.5,-111.5 671.5,-111.5 677.5,-117.5 677.5,-123.5 677.5,-123.5 677.5,-167.5 677.5,-167.5 677.5,-173.5 671.5,-179.5 665.5,-179.5\"/>\n<text text-anchor=\"start\" x=\"577\" y=\"-164.3\" font-family=\"Helvetica,sans-Serif\" font-size=\"14.00\" fill=\"#000000\">entropy = 0.0</text>\n<text text-anchor=\"start\" x=\"580\" y=\"-149.3\" font-family=\"Helvetica,sans-Serif\" font-size=\"14.00\" fill=\"#000000\">samples = 4</text>\n<text text-anchor=\"start\" x=\"570\" y=\"-134.3\" font-family=\"Helvetica,sans-Serif\" font-size=\"14.00\" fill=\"#000000\">value = [0, 4, 0]</text>\n<text text-anchor=\"start\" x=\"569.5\" y=\"-119.3\" font-family=\"Helvetica,sans-Serif\" font-size=\"14.00\" fill=\"#000000\">class = class_1</text>\n</g>\n<!-- 12&#45;&gt;13 -->\n<g id=\"edge13\" class=\"edge\">\n<title>12&#45;&gt;13</title>\n<path fill=\"none\" stroke=\"#000000\" d=\"M619.5,-222.8796C619.5,-212.2134 619.5,-200.7021 619.5,-189.9015\"/>\n<polygon fill=\"#000000\" stroke=\"#000000\" points=\"623.0001,-189.8149 619.5,-179.8149 616.0001,-189.815 623.0001,-189.8149\"/>\n</g>\n<!-- 14 -->\n<g id=\"node15\" class=\"node\">\n<title>14</title>\n<path fill=\"#e58139\" stroke=\"#000000\" d=\"M807,-179.5C807,-179.5 708,-179.5 708,-179.5 702,-179.5 696,-173.5 696,-167.5 696,-167.5 696,-123.5 696,-123.5 696,-117.5 702,-111.5 708,-111.5 708,-111.5 807,-111.5 807,-111.5 813,-111.5 819,-117.5 819,-123.5 819,-123.5 819,-167.5 819,-167.5 819,-173.5 813,-179.5 807,-179.5\"/>\n<text text-anchor=\"start\" x=\"715\" y=\"-164.3\" font-family=\"Helvetica,sans-Serif\" font-size=\"14.00\" fill=\"#000000\">entropy = 0.0</text>\n<text text-anchor=\"start\" x=\"713.5\" y=\"-149.3\" font-family=\"Helvetica,sans-Serif\" font-size=\"14.00\" fill=\"#000000\">samples = 58</text>\n<text text-anchor=\"start\" x=\"704\" y=\"-134.3\" font-family=\"Helvetica,sans-Serif\" font-size=\"14.00\" fill=\"#000000\">value = [58, 0, 0]</text>\n<text text-anchor=\"start\" x=\"707.5\" y=\"-119.3\" font-family=\"Helvetica,sans-Serif\" font-size=\"14.00\" fill=\"#000000\">class = class_0</text>\n</g>\n<!-- 12&#45;&gt;14 -->\n<g id=\"edge14\" class=\"edge\">\n<title>12&#45;&gt;14</title>\n<path fill=\"none\" stroke=\"#000000\" d=\"M667.7657,-222.8796C681.4101,-211.1138 696.2469,-198.3197 709.8546,-186.5855\"/>\n<polygon fill=\"#000000\" stroke=\"#000000\" points=\"712.4187,-188.9961 717.7062,-179.8149 707.8473,-183.6948 712.4187,-188.9961\"/>\n</g>\n</g>\n</svg>\n"
          },
          "metadata": {
            "tags": []
          },
          "execution_count": 38
        }
      ]
    }
  ]
}